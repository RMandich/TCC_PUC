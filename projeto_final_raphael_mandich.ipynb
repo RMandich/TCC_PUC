{
  "nbformat": 4,
  "nbformat_minor": 0,
  "metadata": {
    "colab": {
      "name": "projeto_final_raphael_mandich.ipynb",
      "provenance": [],
      "collapsed_sections": [],
      "toc_visible": true
    },
    "kernelspec": {
      "name": "python3",
      "display_name": "Python 3"
    },
    "language_info": {
      "name": "python"
    }
  },
  "cells": [
    {
      "cell_type": "markdown",
      "source": [
        "# **Engenharia de Software para Ciência de Dados - PUC-Rio**\n",
        "\n",
        "### Projeto Completo de Classificação Binária (Heart Disease)\n",
        "\n",
        "Raphael Mandich"
      ],
      "metadata": {
        "id": "2AkwqI5MDQLP"
      }
    },
    {
      "cell_type": "markdown",
      "source": [
        "# 1. Definição do Problema"
      ],
      "metadata": {
        "id": "lh68mRNvDwdl"
      }
    },
    {
      "cell_type": "markdown",
      "source": [
        "O dataset usado neste projeto será o **Heart Disease Data Set**, um conjunto de dados com 76 variáveis relacionadas a características cardíacas de pacientes de algumas localidades. Todos os estudos realizados até hoje utilizam apenas 14 dessas variáveis, e os dados originados em Cleveland são os mais utilizados, contendo 303 observações. Seu objetivo é prever se um paciente tem ou não uma doença cardíaca, com base em certas medidas de diagnóstico médico. O dataset apresenta diversos atributos relacionados a dados médicos, numéricos e categóricos, e uma variável de classe que varia de 0 (sem presença de doença) a 4. Para efeitos deste estudo, tentaremos modelar um algoritmo capaz de diferenciar a presença (valores 1, 2, 3 e 4) da ausência (0) de deonça cardíaca. O dataset completo assim como maiores informações acerca do mesmo pode ser encontrado em  https://archive.ics.uci.edu/ml/datasets/Heart+Disease\n",
        "\n",
        "**Informações sobre os atributos:**\n",
        "1. **age** -  Idade em anos \n",
        "2. **sex** -  1 = Homem; 0 = Mulher\n",
        "3. **cp**  -  Tipo de dor no peito \n",
        "4. **trestbps** - Pressão sanguínea em repouso \n",
        "5. **chol** - Colesterol em mg/dl \n",
        "6. **fbs** - Açúcar no sangue em jejum (1 > 120mg/dl; 0 < 120mg/dl) \n",
        "7. **restecg** - Resultado do eletrocardiograma em repouso\n",
        "8. **thalach** - Taxa de batimentos máxima atingida \n",
        "9. **exang** - Angina induzida por exercício (1 = True; 0 = False)\n",
        "10. **oldpeak** - Depressão ST induzida por exercício \n",
        "11. **slope** - Inclinação do pico do segmento de exercício ST (1 a 3)\n",
        "12. **ca** - Número da vasos coloridos por Fluoroscopia (0 a 3)\n",
        "13. **thal** - Tipo de defeito encontrado no coração (3, 6 ou 7)\n",
        "14. **target** - Variável de classe, varia de 0 a 4\n"
      ],
      "metadata": {
        "id": "v6cC7yJfD0Qa"
      }
    },
    {
      "cell_type": "code",
      "execution_count": null,
      "metadata": {
        "id": "IlX47urkDHwE"
      },
      "outputs": [],
      "source": [
        "# Imports\n",
        "import pandas as pd\n",
        "import numpy as np\n",
        "import matplotlib\n",
        "import matplotlib.pyplot as plt\n",
        "import seaborn as sns\n",
        "from matplotlib import cm\n",
        "from pandas import set_option\n",
        "from pandas.plotting import scatter_matrix\n",
        "from sklearn.preprocessing import StandardScaler\n",
        "from sklearn.preprocessing import MinMaxScaler\n",
        "from sklearn.model_selection import train_test_split\n",
        "from sklearn.model_selection import KFold\n",
        "from sklearn.model_selection import StratifiedKFold\n",
        "from sklearn.model_selection import cross_val_score\n",
        "from sklearn.model_selection import GridSearchCV\n",
        "from sklearn.metrics import classification_report\n",
        "from sklearn.metrics import confusion_matrix\n",
        "from sklearn.metrics import accuracy_score\n",
        "from sklearn.metrics import roc_curve\n",
        "from sklearn.metrics import roc_auc_score\n",
        "from sklearn.pipeline import Pipeline\n",
        "from sklearn.linear_model import LogisticRegression\n",
        "from sklearn.tree import DecisionTreeClassifier\n",
        "from sklearn.neighbors import KNeighborsClassifier\n",
        "from sklearn.naive_bayes import GaussianNB\n",
        "from sklearn.svm import SVC\n",
        "from sklearn.ensemble import BaggingClassifier\n",
        "from sklearn.ensemble import RandomForestClassifier\n",
        "from sklearn.ensemble import ExtraTreesClassifier\n",
        "from sklearn.ensemble import VotingClassifier\n",
        "from sklearn.ensemble import AdaBoostClassifier\n",
        "from sklearn.ensemble import GradientBoostingClassifier"
      ]
    },
    {
      "cell_type": "code",
      "source": [
        "# Configuração para não exibir os warnings\n",
        "import warnings\n",
        "warnings.filterwarnings(\"ignore\")"
      ],
      "metadata": {
        "id": "xqEMFgbcJjl2"
      },
      "execution_count": null,
      "outputs": []
    },
    {
      "cell_type": "markdown",
      "source": [
        "## 2. Carga de Dados"
      ],
      "metadata": {
        "id": "J2i9IMuqJm_C"
      }
    },
    {
      "cell_type": "markdown",
      "source": [
        "Usaremos o pacote Pandas ( Python Data Analysis Library) para carregar um arquivo .csv sem cabeçalho disponível online.\n",
        "\n",
        "Com o dataset carregado, prosseguiremos com a análise exploratória dos dados."
      ],
      "metadata": {
        "id": "Uif0xLAfJu_q"
      }
    },
    {
      "cell_type": "code",
      "source": [
        "# Carrega arquivo csv usando Pandas a partir de uma URL\n",
        "\n",
        "# Informa a URL de importação do dataset\n",
        "url = \"https://archive.ics.uci.edu/ml/machine-learning-databases/heart-disease/processed.cleveland.data\"\n",
        "\n",
        "# Informa o cabeçalho das colunas\n",
        "colunas = ['age', 'sex', 'cp', 'trestbps', 'chol', 'fbs', 'restecg', 'thalach',\n",
        "           'exang', 'oldpeak', 'slope', 'ca', 'thal', 'target']\n",
        "\n",
        "# Lê o arquivo utilizando as colunas informadas\n",
        "dataset = pd.read_csv(url, names=colunas, skiprows=0, delimiter=',')"
      ],
      "metadata": {
        "id": "eUI35MuKJn-c"
      },
      "execution_count": null,
      "outputs": []
    },
    {
      "cell_type": "markdown",
      "source": [
        "## 3. Análise de Dados"
      ],
      "metadata": {
        "id": "YAQ3f-aCJ_jR"
      }
    },
    {
      "cell_type": "markdown",
      "source": [
        "### 3.1. Estatísticas Descritivas\n",
        "\n",
        "Iniciaremos examinando as dimensões do dataset, suas informações e alguns exemplos de linhas."
      ],
      "metadata": {
        "id": "Fkqv-_0BKE8Y"
      }
    },
    {
      "cell_type": "code",
      "source": [
        "# Mostra as dimensões do dataset\n",
        "print(dataset.shape)"
      ],
      "metadata": {
        "id": "Q_-_XGYFKLOF",
        "colab": {
          "base_uri": "https://localhost:8080/"
        },
        "outputId": "8bad8eea-cdd9-4c2b-8103-c3da2f65c0ef"
      },
      "execution_count": null,
      "outputs": [
        {
          "output_type": "stream",
          "name": "stdout",
          "text": [
            "(303, 14)\n"
          ]
        }
      ]
    },
    {
      "cell_type": "markdown",
      "source": [
        "O dataset foi carregado corretamente, com todas as 303 observações de 14 variáveis."
      ],
      "metadata": {
        "id": "Lv2lv89kDOSk"
      }
    },
    {
      "cell_type": "code",
      "source": [
        "# Mostra as informações do dataset\n",
        "print(dataset.info())"
      ],
      "metadata": {
        "id": "-gZKQtyjKNEA",
        "colab": {
          "base_uri": "https://localhost:8080/"
        },
        "outputId": "4e534516-82e1-40c0-9736-82e2e9b68f0d"
      },
      "execution_count": null,
      "outputs": [
        {
          "output_type": "stream",
          "name": "stdout",
          "text": [
            "<class 'pandas.core.frame.DataFrame'>\n",
            "RangeIndex: 303 entries, 0 to 302\n",
            "Data columns (total 14 columns):\n",
            " #   Column    Non-Null Count  Dtype  \n",
            "---  ------    --------------  -----  \n",
            " 0   age       303 non-null    float64\n",
            " 1   sex       303 non-null    float64\n",
            " 2   cp        303 non-null    float64\n",
            " 3   trestbps  303 non-null    float64\n",
            " 4   chol      303 non-null    float64\n",
            " 5   fbs       303 non-null    float64\n",
            " 6   restecg   303 non-null    float64\n",
            " 7   thalach   303 non-null    float64\n",
            " 8   exang     303 non-null    float64\n",
            " 9   oldpeak   303 non-null    float64\n",
            " 10  slope     303 non-null    float64\n",
            " 11  ca        303 non-null    object \n",
            " 12  thal      303 non-null    object \n",
            " 13  target    303 non-null    int64  \n",
            "dtypes: float64(11), int64(1), object(2)\n",
            "memory usage: 33.3+ KB\n",
            "None\n"
          ]
        }
      ]
    },
    {
      "cell_type": "markdown",
      "source": [
        "Aqui já podemos perceber um primeiro problema em relação a tipos de variáveis, já que algumas variáveis categóricas foram reconhecidas como numéricas. Essa situação será abordada e corrigida no capítulo 4 desse estudo, a etapa de Pré-Processamento dos dados."
      ],
      "metadata": {
        "id": "KeKhAumYDZDF"
      }
    },
    {
      "cell_type": "code",
      "source": [
        "# Mostra as 10 primeiras linhas do dataset\n",
        "dataset.head(10)"
      ],
      "metadata": {
        "id": "8VMe6-qKKPck",
        "colab": {
          "base_uri": "https://localhost:8080/",
          "height": 363
        },
        "outputId": "556cef82-145b-4606-f097-9b5f482ef0d3"
      },
      "execution_count": null,
      "outputs": [
        {
          "output_type": "execute_result",
          "data": {
            "text/plain": [
              "    age  sex   cp  trestbps   chol  fbs  restecg  thalach  exang  oldpeak  \\\n",
              "0  63.0  1.0  1.0     145.0  233.0  1.0      2.0    150.0    0.0      2.3   \n",
              "1  67.0  1.0  4.0     160.0  286.0  0.0      2.0    108.0    1.0      1.5   \n",
              "2  67.0  1.0  4.0     120.0  229.0  0.0      2.0    129.0    1.0      2.6   \n",
              "3  37.0  1.0  3.0     130.0  250.0  0.0      0.0    187.0    0.0      3.5   \n",
              "4  41.0  0.0  2.0     130.0  204.0  0.0      2.0    172.0    0.0      1.4   \n",
              "5  56.0  1.0  2.0     120.0  236.0  0.0      0.0    178.0    0.0      0.8   \n",
              "6  62.0  0.0  4.0     140.0  268.0  0.0      2.0    160.0    0.0      3.6   \n",
              "7  57.0  0.0  4.0     120.0  354.0  0.0      0.0    163.0    1.0      0.6   \n",
              "8  63.0  1.0  4.0     130.0  254.0  0.0      2.0    147.0    0.0      1.4   \n",
              "9  53.0  1.0  4.0     140.0  203.0  1.0      2.0    155.0    1.0      3.1   \n",
              "\n",
              "   slope   ca thal  target  \n",
              "0    3.0  0.0  6.0       0  \n",
              "1    2.0  3.0  3.0       2  \n",
              "2    2.0  2.0  7.0       1  \n",
              "3    3.0  0.0  3.0       0  \n",
              "4    1.0  0.0  3.0       0  \n",
              "5    1.0  0.0  3.0       0  \n",
              "6    3.0  2.0  3.0       3  \n",
              "7    1.0  0.0  3.0       0  \n",
              "8    2.0  1.0  7.0       2  \n",
              "9    3.0  0.0  7.0       1  "
            ],
            "text/html": [
              "\n",
              "  <div id=\"df-4970c7fc-4f50-49d0-9f76-948e942b735d\">\n",
              "    <div class=\"colab-df-container\">\n",
              "      <div>\n",
              "<style scoped>\n",
              "    .dataframe tbody tr th:only-of-type {\n",
              "        vertical-align: middle;\n",
              "    }\n",
              "\n",
              "    .dataframe tbody tr th {\n",
              "        vertical-align: top;\n",
              "    }\n",
              "\n",
              "    .dataframe thead th {\n",
              "        text-align: right;\n",
              "    }\n",
              "</style>\n",
              "<table border=\"1\" class=\"dataframe\">\n",
              "  <thead>\n",
              "    <tr style=\"text-align: right;\">\n",
              "      <th></th>\n",
              "      <th>age</th>\n",
              "      <th>sex</th>\n",
              "      <th>cp</th>\n",
              "      <th>trestbps</th>\n",
              "      <th>chol</th>\n",
              "      <th>fbs</th>\n",
              "      <th>restecg</th>\n",
              "      <th>thalach</th>\n",
              "      <th>exang</th>\n",
              "      <th>oldpeak</th>\n",
              "      <th>slope</th>\n",
              "      <th>ca</th>\n",
              "      <th>thal</th>\n",
              "      <th>target</th>\n",
              "    </tr>\n",
              "  </thead>\n",
              "  <tbody>\n",
              "    <tr>\n",
              "      <th>0</th>\n",
              "      <td>63.0</td>\n",
              "      <td>1.0</td>\n",
              "      <td>1.0</td>\n",
              "      <td>145.0</td>\n",
              "      <td>233.0</td>\n",
              "      <td>1.0</td>\n",
              "      <td>2.0</td>\n",
              "      <td>150.0</td>\n",
              "      <td>0.0</td>\n",
              "      <td>2.3</td>\n",
              "      <td>3.0</td>\n",
              "      <td>0.0</td>\n",
              "      <td>6.0</td>\n",
              "      <td>0</td>\n",
              "    </tr>\n",
              "    <tr>\n",
              "      <th>1</th>\n",
              "      <td>67.0</td>\n",
              "      <td>1.0</td>\n",
              "      <td>4.0</td>\n",
              "      <td>160.0</td>\n",
              "      <td>286.0</td>\n",
              "      <td>0.0</td>\n",
              "      <td>2.0</td>\n",
              "      <td>108.0</td>\n",
              "      <td>1.0</td>\n",
              "      <td>1.5</td>\n",
              "      <td>2.0</td>\n",
              "      <td>3.0</td>\n",
              "      <td>3.0</td>\n",
              "      <td>2</td>\n",
              "    </tr>\n",
              "    <tr>\n",
              "      <th>2</th>\n",
              "      <td>67.0</td>\n",
              "      <td>1.0</td>\n",
              "      <td>4.0</td>\n",
              "      <td>120.0</td>\n",
              "      <td>229.0</td>\n",
              "      <td>0.0</td>\n",
              "      <td>2.0</td>\n",
              "      <td>129.0</td>\n",
              "      <td>1.0</td>\n",
              "      <td>2.6</td>\n",
              "      <td>2.0</td>\n",
              "      <td>2.0</td>\n",
              "      <td>7.0</td>\n",
              "      <td>1</td>\n",
              "    </tr>\n",
              "    <tr>\n",
              "      <th>3</th>\n",
              "      <td>37.0</td>\n",
              "      <td>1.0</td>\n",
              "      <td>3.0</td>\n",
              "      <td>130.0</td>\n",
              "      <td>250.0</td>\n",
              "      <td>0.0</td>\n",
              "      <td>0.0</td>\n",
              "      <td>187.0</td>\n",
              "      <td>0.0</td>\n",
              "      <td>3.5</td>\n",
              "      <td>3.0</td>\n",
              "      <td>0.0</td>\n",
              "      <td>3.0</td>\n",
              "      <td>0</td>\n",
              "    </tr>\n",
              "    <tr>\n",
              "      <th>4</th>\n",
              "      <td>41.0</td>\n",
              "      <td>0.0</td>\n",
              "      <td>2.0</td>\n",
              "      <td>130.0</td>\n",
              "      <td>204.0</td>\n",
              "      <td>0.0</td>\n",
              "      <td>2.0</td>\n",
              "      <td>172.0</td>\n",
              "      <td>0.0</td>\n",
              "      <td>1.4</td>\n",
              "      <td>1.0</td>\n",
              "      <td>0.0</td>\n",
              "      <td>3.0</td>\n",
              "      <td>0</td>\n",
              "    </tr>\n",
              "    <tr>\n",
              "      <th>5</th>\n",
              "      <td>56.0</td>\n",
              "      <td>1.0</td>\n",
              "      <td>2.0</td>\n",
              "      <td>120.0</td>\n",
              "      <td>236.0</td>\n",
              "      <td>0.0</td>\n",
              "      <td>0.0</td>\n",
              "      <td>178.0</td>\n",
              "      <td>0.0</td>\n",
              "      <td>0.8</td>\n",
              "      <td>1.0</td>\n",
              "      <td>0.0</td>\n",
              "      <td>3.0</td>\n",
              "      <td>0</td>\n",
              "    </tr>\n",
              "    <tr>\n",
              "      <th>6</th>\n",
              "      <td>62.0</td>\n",
              "      <td>0.0</td>\n",
              "      <td>4.0</td>\n",
              "      <td>140.0</td>\n",
              "      <td>268.0</td>\n",
              "      <td>0.0</td>\n",
              "      <td>2.0</td>\n",
              "      <td>160.0</td>\n",
              "      <td>0.0</td>\n",
              "      <td>3.6</td>\n",
              "      <td>3.0</td>\n",
              "      <td>2.0</td>\n",
              "      <td>3.0</td>\n",
              "      <td>3</td>\n",
              "    </tr>\n",
              "    <tr>\n",
              "      <th>7</th>\n",
              "      <td>57.0</td>\n",
              "      <td>0.0</td>\n",
              "      <td>4.0</td>\n",
              "      <td>120.0</td>\n",
              "      <td>354.0</td>\n",
              "      <td>0.0</td>\n",
              "      <td>0.0</td>\n",
              "      <td>163.0</td>\n",
              "      <td>1.0</td>\n",
              "      <td>0.6</td>\n",
              "      <td>1.0</td>\n",
              "      <td>0.0</td>\n",
              "      <td>3.0</td>\n",
              "      <td>0</td>\n",
              "    </tr>\n",
              "    <tr>\n",
              "      <th>8</th>\n",
              "      <td>63.0</td>\n",
              "      <td>1.0</td>\n",
              "      <td>4.0</td>\n",
              "      <td>130.0</td>\n",
              "      <td>254.0</td>\n",
              "      <td>0.0</td>\n",
              "      <td>2.0</td>\n",
              "      <td>147.0</td>\n",
              "      <td>0.0</td>\n",
              "      <td>1.4</td>\n",
              "      <td>2.0</td>\n",
              "      <td>1.0</td>\n",
              "      <td>7.0</td>\n",
              "      <td>2</td>\n",
              "    </tr>\n",
              "    <tr>\n",
              "      <th>9</th>\n",
              "      <td>53.0</td>\n",
              "      <td>1.0</td>\n",
              "      <td>4.0</td>\n",
              "      <td>140.0</td>\n",
              "      <td>203.0</td>\n",
              "      <td>1.0</td>\n",
              "      <td>2.0</td>\n",
              "      <td>155.0</td>\n",
              "      <td>1.0</td>\n",
              "      <td>3.1</td>\n",
              "      <td>3.0</td>\n",
              "      <td>0.0</td>\n",
              "      <td>7.0</td>\n",
              "      <td>1</td>\n",
              "    </tr>\n",
              "  </tbody>\n",
              "</table>\n",
              "</div>\n",
              "      <button class=\"colab-df-convert\" onclick=\"convertToInteractive('df-4970c7fc-4f50-49d0-9f76-948e942b735d')\"\n",
              "              title=\"Convert this dataframe to an interactive table.\"\n",
              "              style=\"display:none;\">\n",
              "        \n",
              "  <svg xmlns=\"http://www.w3.org/2000/svg\" height=\"24px\"viewBox=\"0 0 24 24\"\n",
              "       width=\"24px\">\n",
              "    <path d=\"M0 0h24v24H0V0z\" fill=\"none\"/>\n",
              "    <path d=\"M18.56 5.44l.94 2.06.94-2.06 2.06-.94-2.06-.94-.94-2.06-.94 2.06-2.06.94zm-11 1L8.5 8.5l.94-2.06 2.06-.94-2.06-.94L8.5 2.5l-.94 2.06-2.06.94zm10 10l.94 2.06.94-2.06 2.06-.94-2.06-.94-.94-2.06-.94 2.06-2.06.94z\"/><path d=\"M17.41 7.96l-1.37-1.37c-.4-.4-.92-.59-1.43-.59-.52 0-1.04.2-1.43.59L10.3 9.45l-7.72 7.72c-.78.78-.78 2.05 0 2.83L4 21.41c.39.39.9.59 1.41.59.51 0 1.02-.2 1.41-.59l7.78-7.78 2.81-2.81c.8-.78.8-2.07 0-2.86zM5.41 20L4 18.59l7.72-7.72 1.47 1.35L5.41 20z\"/>\n",
              "  </svg>\n",
              "      </button>\n",
              "      \n",
              "  <style>\n",
              "    .colab-df-container {\n",
              "      display:flex;\n",
              "      flex-wrap:wrap;\n",
              "      gap: 12px;\n",
              "    }\n",
              "\n",
              "    .colab-df-convert {\n",
              "      background-color: #E8F0FE;\n",
              "      border: none;\n",
              "      border-radius: 50%;\n",
              "      cursor: pointer;\n",
              "      display: none;\n",
              "      fill: #1967D2;\n",
              "      height: 32px;\n",
              "      padding: 0 0 0 0;\n",
              "      width: 32px;\n",
              "    }\n",
              "\n",
              "    .colab-df-convert:hover {\n",
              "      background-color: #E2EBFA;\n",
              "      box-shadow: 0px 1px 2px rgba(60, 64, 67, 0.3), 0px 1px 3px 1px rgba(60, 64, 67, 0.15);\n",
              "      fill: #174EA6;\n",
              "    }\n",
              "\n",
              "    [theme=dark] .colab-df-convert {\n",
              "      background-color: #3B4455;\n",
              "      fill: #D2E3FC;\n",
              "    }\n",
              "\n",
              "    [theme=dark] .colab-df-convert:hover {\n",
              "      background-color: #434B5C;\n",
              "      box-shadow: 0px 1px 3px 1px rgba(0, 0, 0, 0.15);\n",
              "      filter: drop-shadow(0px 1px 2px rgba(0, 0, 0, 0.3));\n",
              "      fill: #FFFFFF;\n",
              "    }\n",
              "  </style>\n",
              "\n",
              "      <script>\n",
              "        const buttonEl =\n",
              "          document.querySelector('#df-4970c7fc-4f50-49d0-9f76-948e942b735d button.colab-df-convert');\n",
              "        buttonEl.style.display =\n",
              "          google.colab.kernel.accessAllowed ? 'block' : 'none';\n",
              "\n",
              "        async function convertToInteractive(key) {\n",
              "          const element = document.querySelector('#df-4970c7fc-4f50-49d0-9f76-948e942b735d');\n",
              "          const dataTable =\n",
              "            await google.colab.kernel.invokeFunction('convertToInteractive',\n",
              "                                                     [key], {});\n",
              "          if (!dataTable) return;\n",
              "\n",
              "          const docLinkHtml = 'Like what you see? Visit the ' +\n",
              "            '<a target=\"_blank\" href=https://colab.research.google.com/notebooks/data_table.ipynb>data table notebook</a>'\n",
              "            + ' to learn more about interactive tables.';\n",
              "          element.innerHTML = '';\n",
              "          dataTable['output_type'] = 'display_data';\n",
              "          await google.colab.output.renderOutput(dataTable, element);\n",
              "          const docLink = document.createElement('div');\n",
              "          docLink.innerHTML = docLinkHtml;\n",
              "          element.appendChild(docLink);\n",
              "        }\n",
              "      </script>\n",
              "    </div>\n",
              "  </div>\n",
              "  "
            ]
          },
          "metadata": {},
          "execution_count": 6
        }
      ]
    },
    {
      "cell_type": "code",
      "source": [
        "# Mostra as 10 últimas linhas do dataset\n",
        "dataset.tail(10)"
      ],
      "metadata": {
        "id": "CqplevbVKRSN",
        "colab": {
          "base_uri": "https://localhost:8080/",
          "height": 363
        },
        "outputId": "1e9cf973-d3d2-4a07-bf21-70d6fe889dac"
      },
      "execution_count": null,
      "outputs": [
        {
          "output_type": "execute_result",
          "data": {
            "text/plain": [
              "      age  sex   cp  trestbps   chol  fbs  restecg  thalach  exang  oldpeak  \\\n",
              "293  63.0  1.0  4.0     140.0  187.0  0.0      2.0    144.0    1.0      4.0   \n",
              "294  63.0  0.0  4.0     124.0  197.0  0.0      0.0    136.0    1.0      0.0   \n",
              "295  41.0  1.0  2.0     120.0  157.0  0.0      0.0    182.0    0.0      0.0   \n",
              "296  59.0  1.0  4.0     164.0  176.0  1.0      2.0     90.0    0.0      1.0   \n",
              "297  57.0  0.0  4.0     140.0  241.0  0.0      0.0    123.0    1.0      0.2   \n",
              "298  45.0  1.0  1.0     110.0  264.0  0.0      0.0    132.0    0.0      1.2   \n",
              "299  68.0  1.0  4.0     144.0  193.0  1.0      0.0    141.0    0.0      3.4   \n",
              "300  57.0  1.0  4.0     130.0  131.0  0.0      0.0    115.0    1.0      1.2   \n",
              "301  57.0  0.0  2.0     130.0  236.0  0.0      2.0    174.0    0.0      0.0   \n",
              "302  38.0  1.0  3.0     138.0  175.0  0.0      0.0    173.0    0.0      0.0   \n",
              "\n",
              "     slope   ca thal  target  \n",
              "293    1.0  2.0  7.0       2  \n",
              "294    2.0  0.0  3.0       1  \n",
              "295    1.0  0.0  3.0       0  \n",
              "296    2.0  2.0  6.0       3  \n",
              "297    2.0  0.0  7.0       1  \n",
              "298    2.0  0.0  7.0       1  \n",
              "299    2.0  2.0  7.0       2  \n",
              "300    2.0  1.0  7.0       3  \n",
              "301    2.0  1.0  3.0       1  \n",
              "302    1.0    ?  3.0       0  "
            ],
            "text/html": [
              "\n",
              "  <div id=\"df-b210a214-4f4f-41d6-8e2c-cdda3a48dae9\">\n",
              "    <div class=\"colab-df-container\">\n",
              "      <div>\n",
              "<style scoped>\n",
              "    .dataframe tbody tr th:only-of-type {\n",
              "        vertical-align: middle;\n",
              "    }\n",
              "\n",
              "    .dataframe tbody tr th {\n",
              "        vertical-align: top;\n",
              "    }\n",
              "\n",
              "    .dataframe thead th {\n",
              "        text-align: right;\n",
              "    }\n",
              "</style>\n",
              "<table border=\"1\" class=\"dataframe\">\n",
              "  <thead>\n",
              "    <tr style=\"text-align: right;\">\n",
              "      <th></th>\n",
              "      <th>age</th>\n",
              "      <th>sex</th>\n",
              "      <th>cp</th>\n",
              "      <th>trestbps</th>\n",
              "      <th>chol</th>\n",
              "      <th>fbs</th>\n",
              "      <th>restecg</th>\n",
              "      <th>thalach</th>\n",
              "      <th>exang</th>\n",
              "      <th>oldpeak</th>\n",
              "      <th>slope</th>\n",
              "      <th>ca</th>\n",
              "      <th>thal</th>\n",
              "      <th>target</th>\n",
              "    </tr>\n",
              "  </thead>\n",
              "  <tbody>\n",
              "    <tr>\n",
              "      <th>293</th>\n",
              "      <td>63.0</td>\n",
              "      <td>1.0</td>\n",
              "      <td>4.0</td>\n",
              "      <td>140.0</td>\n",
              "      <td>187.0</td>\n",
              "      <td>0.0</td>\n",
              "      <td>2.0</td>\n",
              "      <td>144.0</td>\n",
              "      <td>1.0</td>\n",
              "      <td>4.0</td>\n",
              "      <td>1.0</td>\n",
              "      <td>2.0</td>\n",
              "      <td>7.0</td>\n",
              "      <td>2</td>\n",
              "    </tr>\n",
              "    <tr>\n",
              "      <th>294</th>\n",
              "      <td>63.0</td>\n",
              "      <td>0.0</td>\n",
              "      <td>4.0</td>\n",
              "      <td>124.0</td>\n",
              "      <td>197.0</td>\n",
              "      <td>0.0</td>\n",
              "      <td>0.0</td>\n",
              "      <td>136.0</td>\n",
              "      <td>1.0</td>\n",
              "      <td>0.0</td>\n",
              "      <td>2.0</td>\n",
              "      <td>0.0</td>\n",
              "      <td>3.0</td>\n",
              "      <td>1</td>\n",
              "    </tr>\n",
              "    <tr>\n",
              "      <th>295</th>\n",
              "      <td>41.0</td>\n",
              "      <td>1.0</td>\n",
              "      <td>2.0</td>\n",
              "      <td>120.0</td>\n",
              "      <td>157.0</td>\n",
              "      <td>0.0</td>\n",
              "      <td>0.0</td>\n",
              "      <td>182.0</td>\n",
              "      <td>0.0</td>\n",
              "      <td>0.0</td>\n",
              "      <td>1.0</td>\n",
              "      <td>0.0</td>\n",
              "      <td>3.0</td>\n",
              "      <td>0</td>\n",
              "    </tr>\n",
              "    <tr>\n",
              "      <th>296</th>\n",
              "      <td>59.0</td>\n",
              "      <td>1.0</td>\n",
              "      <td>4.0</td>\n",
              "      <td>164.0</td>\n",
              "      <td>176.0</td>\n",
              "      <td>1.0</td>\n",
              "      <td>2.0</td>\n",
              "      <td>90.0</td>\n",
              "      <td>0.0</td>\n",
              "      <td>1.0</td>\n",
              "      <td>2.0</td>\n",
              "      <td>2.0</td>\n",
              "      <td>6.0</td>\n",
              "      <td>3</td>\n",
              "    </tr>\n",
              "    <tr>\n",
              "      <th>297</th>\n",
              "      <td>57.0</td>\n",
              "      <td>0.0</td>\n",
              "      <td>4.0</td>\n",
              "      <td>140.0</td>\n",
              "      <td>241.0</td>\n",
              "      <td>0.0</td>\n",
              "      <td>0.0</td>\n",
              "      <td>123.0</td>\n",
              "      <td>1.0</td>\n",
              "      <td>0.2</td>\n",
              "      <td>2.0</td>\n",
              "      <td>0.0</td>\n",
              "      <td>7.0</td>\n",
              "      <td>1</td>\n",
              "    </tr>\n",
              "    <tr>\n",
              "      <th>298</th>\n",
              "      <td>45.0</td>\n",
              "      <td>1.0</td>\n",
              "      <td>1.0</td>\n",
              "      <td>110.0</td>\n",
              "      <td>264.0</td>\n",
              "      <td>0.0</td>\n",
              "      <td>0.0</td>\n",
              "      <td>132.0</td>\n",
              "      <td>0.0</td>\n",
              "      <td>1.2</td>\n",
              "      <td>2.0</td>\n",
              "      <td>0.0</td>\n",
              "      <td>7.0</td>\n",
              "      <td>1</td>\n",
              "    </tr>\n",
              "    <tr>\n",
              "      <th>299</th>\n",
              "      <td>68.0</td>\n",
              "      <td>1.0</td>\n",
              "      <td>4.0</td>\n",
              "      <td>144.0</td>\n",
              "      <td>193.0</td>\n",
              "      <td>1.0</td>\n",
              "      <td>0.0</td>\n",
              "      <td>141.0</td>\n",
              "      <td>0.0</td>\n",
              "      <td>3.4</td>\n",
              "      <td>2.0</td>\n",
              "      <td>2.0</td>\n",
              "      <td>7.0</td>\n",
              "      <td>2</td>\n",
              "    </tr>\n",
              "    <tr>\n",
              "      <th>300</th>\n",
              "      <td>57.0</td>\n",
              "      <td>1.0</td>\n",
              "      <td>4.0</td>\n",
              "      <td>130.0</td>\n",
              "      <td>131.0</td>\n",
              "      <td>0.0</td>\n",
              "      <td>0.0</td>\n",
              "      <td>115.0</td>\n",
              "      <td>1.0</td>\n",
              "      <td>1.2</td>\n",
              "      <td>2.0</td>\n",
              "      <td>1.0</td>\n",
              "      <td>7.0</td>\n",
              "      <td>3</td>\n",
              "    </tr>\n",
              "    <tr>\n",
              "      <th>301</th>\n",
              "      <td>57.0</td>\n",
              "      <td>0.0</td>\n",
              "      <td>2.0</td>\n",
              "      <td>130.0</td>\n",
              "      <td>236.0</td>\n",
              "      <td>0.0</td>\n",
              "      <td>2.0</td>\n",
              "      <td>174.0</td>\n",
              "      <td>0.0</td>\n",
              "      <td>0.0</td>\n",
              "      <td>2.0</td>\n",
              "      <td>1.0</td>\n",
              "      <td>3.0</td>\n",
              "      <td>1</td>\n",
              "    </tr>\n",
              "    <tr>\n",
              "      <th>302</th>\n",
              "      <td>38.0</td>\n",
              "      <td>1.0</td>\n",
              "      <td>3.0</td>\n",
              "      <td>138.0</td>\n",
              "      <td>175.0</td>\n",
              "      <td>0.0</td>\n",
              "      <td>0.0</td>\n",
              "      <td>173.0</td>\n",
              "      <td>0.0</td>\n",
              "      <td>0.0</td>\n",
              "      <td>1.0</td>\n",
              "      <td>?</td>\n",
              "      <td>3.0</td>\n",
              "      <td>0</td>\n",
              "    </tr>\n",
              "  </tbody>\n",
              "</table>\n",
              "</div>\n",
              "      <button class=\"colab-df-convert\" onclick=\"convertToInteractive('df-b210a214-4f4f-41d6-8e2c-cdda3a48dae9')\"\n",
              "              title=\"Convert this dataframe to an interactive table.\"\n",
              "              style=\"display:none;\">\n",
              "        \n",
              "  <svg xmlns=\"http://www.w3.org/2000/svg\" height=\"24px\"viewBox=\"0 0 24 24\"\n",
              "       width=\"24px\">\n",
              "    <path d=\"M0 0h24v24H0V0z\" fill=\"none\"/>\n",
              "    <path d=\"M18.56 5.44l.94 2.06.94-2.06 2.06-.94-2.06-.94-.94-2.06-.94 2.06-2.06.94zm-11 1L8.5 8.5l.94-2.06 2.06-.94-2.06-.94L8.5 2.5l-.94 2.06-2.06.94zm10 10l.94 2.06.94-2.06 2.06-.94-2.06-.94-.94-2.06-.94 2.06-2.06.94z\"/><path d=\"M17.41 7.96l-1.37-1.37c-.4-.4-.92-.59-1.43-.59-.52 0-1.04.2-1.43.59L10.3 9.45l-7.72 7.72c-.78.78-.78 2.05 0 2.83L4 21.41c.39.39.9.59 1.41.59.51 0 1.02-.2 1.41-.59l7.78-7.78 2.81-2.81c.8-.78.8-2.07 0-2.86zM5.41 20L4 18.59l7.72-7.72 1.47 1.35L5.41 20z\"/>\n",
              "  </svg>\n",
              "      </button>\n",
              "      \n",
              "  <style>\n",
              "    .colab-df-container {\n",
              "      display:flex;\n",
              "      flex-wrap:wrap;\n",
              "      gap: 12px;\n",
              "    }\n",
              "\n",
              "    .colab-df-convert {\n",
              "      background-color: #E8F0FE;\n",
              "      border: none;\n",
              "      border-radius: 50%;\n",
              "      cursor: pointer;\n",
              "      display: none;\n",
              "      fill: #1967D2;\n",
              "      height: 32px;\n",
              "      padding: 0 0 0 0;\n",
              "      width: 32px;\n",
              "    }\n",
              "\n",
              "    .colab-df-convert:hover {\n",
              "      background-color: #E2EBFA;\n",
              "      box-shadow: 0px 1px 2px rgba(60, 64, 67, 0.3), 0px 1px 3px 1px rgba(60, 64, 67, 0.15);\n",
              "      fill: #174EA6;\n",
              "    }\n",
              "\n",
              "    [theme=dark] .colab-df-convert {\n",
              "      background-color: #3B4455;\n",
              "      fill: #D2E3FC;\n",
              "    }\n",
              "\n",
              "    [theme=dark] .colab-df-convert:hover {\n",
              "      background-color: #434B5C;\n",
              "      box-shadow: 0px 1px 3px 1px rgba(0, 0, 0, 0.15);\n",
              "      filter: drop-shadow(0px 1px 2px rgba(0, 0, 0, 0.3));\n",
              "      fill: #FFFFFF;\n",
              "    }\n",
              "  </style>\n",
              "\n",
              "      <script>\n",
              "        const buttonEl =\n",
              "          document.querySelector('#df-b210a214-4f4f-41d6-8e2c-cdda3a48dae9 button.colab-df-convert');\n",
              "        buttonEl.style.display =\n",
              "          google.colab.kernel.accessAllowed ? 'block' : 'none';\n",
              "\n",
              "        async function convertToInteractive(key) {\n",
              "          const element = document.querySelector('#df-b210a214-4f4f-41d6-8e2c-cdda3a48dae9');\n",
              "          const dataTable =\n",
              "            await google.colab.kernel.invokeFunction('convertToInteractive',\n",
              "                                                     [key], {});\n",
              "          if (!dataTable) return;\n",
              "\n",
              "          const docLinkHtml = 'Like what you see? Visit the ' +\n",
              "            '<a target=\"_blank\" href=https://colab.research.google.com/notebooks/data_table.ipynb>data table notebook</a>'\n",
              "            + ' to learn more about interactive tables.';\n",
              "          element.innerHTML = '';\n",
              "          dataTable['output_type'] = 'display_data';\n",
              "          await google.colab.output.renderOutput(dataTable, element);\n",
              "          const docLink = document.createElement('div');\n",
              "          docLink.innerHTML = docLinkHtml;\n",
              "          element.appendChild(docLink);\n",
              "        }\n",
              "      </script>\n",
              "    </div>\n",
              "  </div>\n",
              "  "
            ]
          },
          "metadata": {},
          "execution_count": 7
        }
      ]
    },
    {
      "cell_type": "code",
      "source": [
        "# Faz um resumo estatístico do dataset (média, desvio padrão, mínimo, máximo e os quartis)\n",
        "dataset.describe()"
      ],
      "metadata": {
        "id": "Rklo0VwAKW2C",
        "colab": {
          "base_uri": "https://localhost:8080/",
          "height": 300
        },
        "outputId": "8f617483-1f8b-4a21-bc6c-a5bdecfe354a"
      },
      "execution_count": null,
      "outputs": [
        {
          "output_type": "execute_result",
          "data": {
            "text/plain": [
              "              age         sex          cp    trestbps        chol         fbs  \\\n",
              "count  303.000000  303.000000  303.000000  303.000000  303.000000  303.000000   \n",
              "mean    54.438944    0.679868    3.158416  131.689769  246.693069    0.148515   \n",
              "std      9.038662    0.467299    0.960126   17.599748   51.776918    0.356198   \n",
              "min     29.000000    0.000000    1.000000   94.000000  126.000000    0.000000   \n",
              "25%     48.000000    0.000000    3.000000  120.000000  211.000000    0.000000   \n",
              "50%     56.000000    1.000000    3.000000  130.000000  241.000000    0.000000   \n",
              "75%     61.000000    1.000000    4.000000  140.000000  275.000000    0.000000   \n",
              "max     77.000000    1.000000    4.000000  200.000000  564.000000    1.000000   \n",
              "\n",
              "          restecg     thalach       exang     oldpeak       slope      target  \n",
              "count  303.000000  303.000000  303.000000  303.000000  303.000000  303.000000  \n",
              "mean     0.990099  149.607261    0.326733    1.039604    1.600660    0.937294  \n",
              "std      0.994971   22.875003    0.469794    1.161075    0.616226    1.228536  \n",
              "min      0.000000   71.000000    0.000000    0.000000    1.000000    0.000000  \n",
              "25%      0.000000  133.500000    0.000000    0.000000    1.000000    0.000000  \n",
              "50%      1.000000  153.000000    0.000000    0.800000    2.000000    0.000000  \n",
              "75%      2.000000  166.000000    1.000000    1.600000    2.000000    2.000000  \n",
              "max      2.000000  202.000000    1.000000    6.200000    3.000000    4.000000  "
            ],
            "text/html": [
              "\n",
              "  <div id=\"df-e38138ab-c801-4d63-8d95-c23358e853e6\">\n",
              "    <div class=\"colab-df-container\">\n",
              "      <div>\n",
              "<style scoped>\n",
              "    .dataframe tbody tr th:only-of-type {\n",
              "        vertical-align: middle;\n",
              "    }\n",
              "\n",
              "    .dataframe tbody tr th {\n",
              "        vertical-align: top;\n",
              "    }\n",
              "\n",
              "    .dataframe thead th {\n",
              "        text-align: right;\n",
              "    }\n",
              "</style>\n",
              "<table border=\"1\" class=\"dataframe\">\n",
              "  <thead>\n",
              "    <tr style=\"text-align: right;\">\n",
              "      <th></th>\n",
              "      <th>age</th>\n",
              "      <th>sex</th>\n",
              "      <th>cp</th>\n",
              "      <th>trestbps</th>\n",
              "      <th>chol</th>\n",
              "      <th>fbs</th>\n",
              "      <th>restecg</th>\n",
              "      <th>thalach</th>\n",
              "      <th>exang</th>\n",
              "      <th>oldpeak</th>\n",
              "      <th>slope</th>\n",
              "      <th>target</th>\n",
              "    </tr>\n",
              "  </thead>\n",
              "  <tbody>\n",
              "    <tr>\n",
              "      <th>count</th>\n",
              "      <td>303.000000</td>\n",
              "      <td>303.000000</td>\n",
              "      <td>303.000000</td>\n",
              "      <td>303.000000</td>\n",
              "      <td>303.000000</td>\n",
              "      <td>303.000000</td>\n",
              "      <td>303.000000</td>\n",
              "      <td>303.000000</td>\n",
              "      <td>303.000000</td>\n",
              "      <td>303.000000</td>\n",
              "      <td>303.000000</td>\n",
              "      <td>303.000000</td>\n",
              "    </tr>\n",
              "    <tr>\n",
              "      <th>mean</th>\n",
              "      <td>54.438944</td>\n",
              "      <td>0.679868</td>\n",
              "      <td>3.158416</td>\n",
              "      <td>131.689769</td>\n",
              "      <td>246.693069</td>\n",
              "      <td>0.148515</td>\n",
              "      <td>0.990099</td>\n",
              "      <td>149.607261</td>\n",
              "      <td>0.326733</td>\n",
              "      <td>1.039604</td>\n",
              "      <td>1.600660</td>\n",
              "      <td>0.937294</td>\n",
              "    </tr>\n",
              "    <tr>\n",
              "      <th>std</th>\n",
              "      <td>9.038662</td>\n",
              "      <td>0.467299</td>\n",
              "      <td>0.960126</td>\n",
              "      <td>17.599748</td>\n",
              "      <td>51.776918</td>\n",
              "      <td>0.356198</td>\n",
              "      <td>0.994971</td>\n",
              "      <td>22.875003</td>\n",
              "      <td>0.469794</td>\n",
              "      <td>1.161075</td>\n",
              "      <td>0.616226</td>\n",
              "      <td>1.228536</td>\n",
              "    </tr>\n",
              "    <tr>\n",
              "      <th>min</th>\n",
              "      <td>29.000000</td>\n",
              "      <td>0.000000</td>\n",
              "      <td>1.000000</td>\n",
              "      <td>94.000000</td>\n",
              "      <td>126.000000</td>\n",
              "      <td>0.000000</td>\n",
              "      <td>0.000000</td>\n",
              "      <td>71.000000</td>\n",
              "      <td>0.000000</td>\n",
              "      <td>0.000000</td>\n",
              "      <td>1.000000</td>\n",
              "      <td>0.000000</td>\n",
              "    </tr>\n",
              "    <tr>\n",
              "      <th>25%</th>\n",
              "      <td>48.000000</td>\n",
              "      <td>0.000000</td>\n",
              "      <td>3.000000</td>\n",
              "      <td>120.000000</td>\n",
              "      <td>211.000000</td>\n",
              "      <td>0.000000</td>\n",
              "      <td>0.000000</td>\n",
              "      <td>133.500000</td>\n",
              "      <td>0.000000</td>\n",
              "      <td>0.000000</td>\n",
              "      <td>1.000000</td>\n",
              "      <td>0.000000</td>\n",
              "    </tr>\n",
              "    <tr>\n",
              "      <th>50%</th>\n",
              "      <td>56.000000</td>\n",
              "      <td>1.000000</td>\n",
              "      <td>3.000000</td>\n",
              "      <td>130.000000</td>\n",
              "      <td>241.000000</td>\n",
              "      <td>0.000000</td>\n",
              "      <td>1.000000</td>\n",
              "      <td>153.000000</td>\n",
              "      <td>0.000000</td>\n",
              "      <td>0.800000</td>\n",
              "      <td>2.000000</td>\n",
              "      <td>0.000000</td>\n",
              "    </tr>\n",
              "    <tr>\n",
              "      <th>75%</th>\n",
              "      <td>61.000000</td>\n",
              "      <td>1.000000</td>\n",
              "      <td>4.000000</td>\n",
              "      <td>140.000000</td>\n",
              "      <td>275.000000</td>\n",
              "      <td>0.000000</td>\n",
              "      <td>2.000000</td>\n",
              "      <td>166.000000</td>\n",
              "      <td>1.000000</td>\n",
              "      <td>1.600000</td>\n",
              "      <td>2.000000</td>\n",
              "      <td>2.000000</td>\n",
              "    </tr>\n",
              "    <tr>\n",
              "      <th>max</th>\n",
              "      <td>77.000000</td>\n",
              "      <td>1.000000</td>\n",
              "      <td>4.000000</td>\n",
              "      <td>200.000000</td>\n",
              "      <td>564.000000</td>\n",
              "      <td>1.000000</td>\n",
              "      <td>2.000000</td>\n",
              "      <td>202.000000</td>\n",
              "      <td>1.000000</td>\n",
              "      <td>6.200000</td>\n",
              "      <td>3.000000</td>\n",
              "      <td>4.000000</td>\n",
              "    </tr>\n",
              "  </tbody>\n",
              "</table>\n",
              "</div>\n",
              "      <button class=\"colab-df-convert\" onclick=\"convertToInteractive('df-e38138ab-c801-4d63-8d95-c23358e853e6')\"\n",
              "              title=\"Convert this dataframe to an interactive table.\"\n",
              "              style=\"display:none;\">\n",
              "        \n",
              "  <svg xmlns=\"http://www.w3.org/2000/svg\" height=\"24px\"viewBox=\"0 0 24 24\"\n",
              "       width=\"24px\">\n",
              "    <path d=\"M0 0h24v24H0V0z\" fill=\"none\"/>\n",
              "    <path d=\"M18.56 5.44l.94 2.06.94-2.06 2.06-.94-2.06-.94-.94-2.06-.94 2.06-2.06.94zm-11 1L8.5 8.5l.94-2.06 2.06-.94-2.06-.94L8.5 2.5l-.94 2.06-2.06.94zm10 10l.94 2.06.94-2.06 2.06-.94-2.06-.94-.94-2.06-.94 2.06-2.06.94z\"/><path d=\"M17.41 7.96l-1.37-1.37c-.4-.4-.92-.59-1.43-.59-.52 0-1.04.2-1.43.59L10.3 9.45l-7.72 7.72c-.78.78-.78 2.05 0 2.83L4 21.41c.39.39.9.59 1.41.59.51 0 1.02-.2 1.41-.59l7.78-7.78 2.81-2.81c.8-.78.8-2.07 0-2.86zM5.41 20L4 18.59l7.72-7.72 1.47 1.35L5.41 20z\"/>\n",
              "  </svg>\n",
              "      </button>\n",
              "      \n",
              "  <style>\n",
              "    .colab-df-container {\n",
              "      display:flex;\n",
              "      flex-wrap:wrap;\n",
              "      gap: 12px;\n",
              "    }\n",
              "\n",
              "    .colab-df-convert {\n",
              "      background-color: #E8F0FE;\n",
              "      border: none;\n",
              "      border-radius: 50%;\n",
              "      cursor: pointer;\n",
              "      display: none;\n",
              "      fill: #1967D2;\n",
              "      height: 32px;\n",
              "      padding: 0 0 0 0;\n",
              "      width: 32px;\n",
              "    }\n",
              "\n",
              "    .colab-df-convert:hover {\n",
              "      background-color: #E2EBFA;\n",
              "      box-shadow: 0px 1px 2px rgba(60, 64, 67, 0.3), 0px 1px 3px 1px rgba(60, 64, 67, 0.15);\n",
              "      fill: #174EA6;\n",
              "    }\n",
              "\n",
              "    [theme=dark] .colab-df-convert {\n",
              "      background-color: #3B4455;\n",
              "      fill: #D2E3FC;\n",
              "    }\n",
              "\n",
              "    [theme=dark] .colab-df-convert:hover {\n",
              "      background-color: #434B5C;\n",
              "      box-shadow: 0px 1px 3px 1px rgba(0, 0, 0, 0.15);\n",
              "      filter: drop-shadow(0px 1px 2px rgba(0, 0, 0, 0.3));\n",
              "      fill: #FFFFFF;\n",
              "    }\n",
              "  </style>\n",
              "\n",
              "      <script>\n",
              "        const buttonEl =\n",
              "          document.querySelector('#df-e38138ab-c801-4d63-8d95-c23358e853e6 button.colab-df-convert');\n",
              "        buttonEl.style.display =\n",
              "          google.colab.kernel.accessAllowed ? 'block' : 'none';\n",
              "\n",
              "        async function convertToInteractive(key) {\n",
              "          const element = document.querySelector('#df-e38138ab-c801-4d63-8d95-c23358e853e6');\n",
              "          const dataTable =\n",
              "            await google.colab.kernel.invokeFunction('convertToInteractive',\n",
              "                                                     [key], {});\n",
              "          if (!dataTable) return;\n",
              "\n",
              "          const docLinkHtml = 'Like what you see? Visit the ' +\n",
              "            '<a target=\"_blank\" href=https://colab.research.google.com/notebooks/data_table.ipynb>data table notebook</a>'\n",
              "            + ' to learn more about interactive tables.';\n",
              "          element.innerHTML = '';\n",
              "          dataTable['output_type'] = 'display_data';\n",
              "          await google.colab.output.renderOutput(dataTable, element);\n",
              "          const docLink = document.createElement('div');\n",
              "          docLink.innerHTML = docLinkHtml;\n",
              "          element.appendChild(docLink);\n",
              "        }\n",
              "      </script>\n",
              "    </div>\n",
              "  </div>\n",
              "  "
            ]
          },
          "metadata": {},
          "execution_count": 8
        }
      ]
    },
    {
      "cell_type": "code",
      "source": [
        "# distribuição das classes\n",
        "print(dataset.groupby('target').size())"
      ],
      "metadata": {
        "id": "UGWpGhMIKbBT",
        "colab": {
          "base_uri": "https://localhost:8080/"
        },
        "outputId": "631a9e66-da80-4b1e-e8cc-e4c4d4792860"
      },
      "execution_count": null,
      "outputs": [
        {
          "output_type": "stream",
          "name": "stdout",
          "text": [
            "target\n",
            "0    164\n",
            "1     55\n",
            "2     36\n",
            "3     35\n",
            "4     13\n",
            "dtype: int64\n"
          ]
        }
      ]
    },
    {
      "cell_type": "markdown",
      "source": [
        "O dataset está razoavelmente balanceado entre observações que possuem doença cardíaca e observações que não possuem"
      ],
      "metadata": {
        "id": "RbuVr7S2KcFF"
      }
    },
    {
      "cell_type": "markdown",
      "source": [
        "### 3.2. Visualizações Unimodais\n",
        "\n",
        "Criaremos um histograma para cada atributo do dataset. O histograma não faz sentido para algumas das variáveis que apresentam dados categóricos, mas as variáveis númericas apresentam distribuições próximas da normal, com exceção do atributo \"oldpeak\"."
      ],
      "metadata": {
        "id": "_urhAkkSKupx"
      }
    },
    {
      "cell_type": "code",
      "source": [
        "# Histograma\n",
        "dataset.hist(figsize = (15,10))\n",
        "plt.show()"
      ],
      "metadata": {
        "id": "7XYLAp6zLPUX",
        "colab": {
          "base_uri": "https://localhost:8080/",
          "height": 607
        },
        "outputId": "3a849e7f-3f31-4100-ea52-a4122b1fef47"
      },
      "execution_count": null,
      "outputs": [
        {
          "output_type": "display_data",
          "data": {
            "text/plain": [
              "<Figure size 1080x720 with 12 Axes>"
            ],
            "image/png": "[encoded data removed]"
          },
          "metadata": {
            "needs_background": "light"
          }
        }
      ]
    },
    {
      "cell_type": "markdown",
      "source": [
        "O Gráfico de Densidade, ou Density Plot, é bem parecido com o histograma, mas com uma visualização um pouco diferente. Com ele, pode ser mais fácil identificar a distribuição do atributos do dataset. Assim como fizemos com o histograma, criaremos um density plot para cada atributo do dataset."
      ],
      "metadata": {
        "id": "LmVRMY1DP539"
      }
    },
    {
      "cell_type": "code",
      "source": [
        "# Density Plot\n",
        "dataset.plot(kind = 'density', subplots = True, layout = (4,4), sharex = False, figsize = (15,10))\n",
        "plt.show()"
      ],
      "metadata": {
        "id": "aIa3aSShQC1o",
        "colab": {
          "base_uri": "https://localhost:8080/",
          "height": 450
        },
        "outputId": "f2c7f386-ae78-4791-c506-687145823146"
      },
      "execution_count": null,
      "outputs": [
        {
          "output_type": "display_data",
          "data": {
            "text/plain": [
              "<Figure size 1080x720 with 16 Axes>"
            ],
            "image/png": "[encoded data removed]"
          },
          "metadata": {
            "needs_background": "light"
          }
        }
      ]
    },
    {
      "cell_type": "markdown",
      "source": [
        "Agora trabalharemos com boxplots. No boxblot, a linha no centro (vermelha) representa o valor da mediana (segundo quartil ou p50). A linha abaixo é o 1o quartil (p25) e a linha acima o terceiro quartil (p75). O objetivo do boxplot é oferecer uma visualização da dispersão dos dados e os possíveis outliers."
      ],
      "metadata": {
        "id": "FJhGjprXQJ85"
      }
    },
    {
      "cell_type": "code",
      "source": [
        "# Boxplot\n",
        "dataset.plot(kind = 'box', subplots = True, layout = (4,4), sharex = False, sharey = False, figsize = (15,10))\n",
        "plt.show()"
      ],
      "metadata": {
        "id": "_Q9BGH-aQZS5",
        "colab": {
          "base_uri": "https://localhost:8080/",
          "height": 450
        },
        "outputId": "8c6753bf-2af2-478e-9f8d-3d63a44050c7"
      },
      "execution_count": null,
      "outputs": [
        {
          "output_type": "display_data",
          "data": {
            "text/plain": [
              "<Figure size 1080x720 with 16 Axes>"
            ],
            "image/png": "[encoded data removed]"
          },
          "metadata": {
            "needs_background": "light"
          }
        }
      ]
    },
    {
      "cell_type": "markdown",
      "source": [
        "### 3.3. Visualizações Multimodais\n",
        "\n",
        "Vamos agora verificar a correlação entre as variáveis do dataset. A **correlação** representa como duas variáveis numéricas estão relacionadas. Existem várias formas de calcular a correlação entre duas variáveis, como por exemplo, o coeficiente de correlação de Pearson, que pode ser:\n",
        "* Próximo de -1 : há uma correlação negativa entre as variáveis, \n",
        "* Próximo de +1: há uma correlação positiva entre as variáveis. \n",
        "* 0: não há correlação entre as variáveis.\n",
        "\n",
        "Esta informação é relevante porque alguns algoritmos como regressão linear e regressão logística podem apresentar problemas de performance se houver atributos altamente correlacionados.\n",
        "\n",
        "No caso dos dados presentes nesse dataset, pode-se notar que nenhum par de variáveis apresenta altos valores de correlação. Importante ressaltar que alguns dos valores no gráfico a seguir não fazem muito sentido numa análise estatística, já que são variáveis categóricas que estão representadas em forma numérica. Esse problema de tipos de variáveis será abordado mais profundamente no segmento de pré-processamento.\n",
        "\n",
        "O código a seguir exibe a matriz de correlação."
      ],
      "metadata": {
        "id": "1zBbaWdvQk5T"
      }
    },
    {
      "cell_type": "code",
      "source": [
        "# Matriz de Correlação\n",
        "fig_dims = (15, 10)\n",
        "fig, ax = plt.subplots(figsize=fig_dims)\n",
        "sns.heatmap(dataset.corr(), vmin = -1, vmax = 1, annot=True, cmap='RdBu', ax=ax);"
      ],
      "metadata": {
        "id": "7bVhJptZR_9f",
        "colab": {
          "base_uri": "https://localhost:8080/",
          "height": 596
        },
        "outputId": "b636001c-49bf-4b05-afae-51aea7a7f8f4"
      },
      "execution_count": null,
      "outputs": [
        {
          "output_type": "display_data",
          "data": {
            "text/plain": [
              "<Figure size 1080x720 with 2 Axes>"
            ],
            "image/png": "[encoded data removed]"
          },
          "metadata": {
            "needs_background": "light"
          }
        }
      ]
    },
    {
      "cell_type": "markdown",
      "source": [
        "## 4. Pré-Processamento de dados\n",
        "\n",
        "Nesta etapa, realizaremos diversas operações de preparação de dados para adequar os atributos ao formato exigido pelos algoritmos de Machine Learning. Realizaremos o tratamento de valores NaN(faltantes), limpeza de dados, transformações de variáveis categóricas utilizando one-hot-encoding, além de correções de tipagem de variáveis.\n",
        "\n",
        "Iniciaremos copiando o dataset sem alterações para um novo objeto."
      ],
      "metadata": {
        "id": "McKnjbiodqlg"
      }
    },
    {
      "cell_type": "code",
      "source": [
        "# Copia o dataset para um novo objeto\n",
        "df = dataset.copy()"
      ],
      "metadata": {
        "id": "wd7xIxlEelUP"
      },
      "execution_count": null,
      "outputs": []
    },
    {
      "cell_type": "markdown",
      "source": [
        "### 4.1. Tratamento de Missings e Limpeza"
      ],
      "metadata": {
        "id": "rnJGDJ-1ezRe"
      }
    },
    {
      "cell_type": "code",
      "source": [
        "# Verificando nulls no dataset\n",
        "df.isnull().sum()"
      ],
      "metadata": {
        "id": "13sIm3kVe3di",
        "colab": {
          "base_uri": "https://localhost:8080/"
        },
        "outputId": "7cd5913e-9875-43db-b232-82dbbe28c3bb"
      },
      "execution_count": null,
      "outputs": [
        {
          "output_type": "execute_result",
          "data": {
            "text/plain": [
              "age         0\n",
              "sex         0\n",
              "cp          0\n",
              "trestbps    0\n",
              "chol        0\n",
              "fbs         0\n",
              "restecg     0\n",
              "thalach     0\n",
              "exang       0\n",
              "oldpeak     0\n",
              "slope       0\n",
              "ca          0\n",
              "thal        0\n",
              "target      0\n",
              "dtype: int64"
            ]
          },
          "metadata": {},
          "execution_count": 15
        }
      ]
    },
    {
      "cell_type": "markdown",
      "source": [
        "O dataset não apresenta valores nulos, porém, nota-se que a variável \"ca\" possui algumas observações registradas como \"?\", que na prática é um valor faltante. Poderíamos tratar esse problema de diversas formas, talvez até mesmo excluindo as observações que apresentam esse valor, mas no caso desse estudo os valores faltantes do atributo \"ca\" serão considerados como 0. Podemos realizar essa alteração com a seguinte linha de código."
      ],
      "metadata": {
        "id": "AMGVzU5de6Qn"
      }
    },
    {
      "cell_type": "code",
      "source": [
        "# Alterar os valores ? na variável ca para 0\n",
        "df.loc[df.ca == '?', 'ca'] = 0"
      ],
      "metadata": {
        "id": "CjN3tdvNftAF"
      },
      "execution_count": null,
      "outputs": []
    },
    {
      "cell_type": "markdown",
      "source": [
        "### 4.2. Alterações de tipo de variáveis "
      ],
      "metadata": {
        "id": "Z20EfNljf_pc"
      }
    },
    {
      "cell_type": "markdown",
      "source": [
        "Agora que o dataset não apresenta nenhum tipo de valor faltante, precisamos verificar se os tipos das variáveis estão de acordo com os valores que elas apresentam. Vamos começar verificando novamente o tipo das variáveis"
      ],
      "metadata": {
        "id": "wYqeQ2YXgLQX"
      }
    },
    {
      "cell_type": "code",
      "source": [
        "print(df.info())"
      ],
      "metadata": {
        "id": "ts2l1wI8gdN9",
        "colab": {
          "base_uri": "https://localhost:8080/"
        },
        "outputId": "28bde724-6888-46dd-81d6-1e7254bfa96a"
      },
      "execution_count": null,
      "outputs": [
        {
          "output_type": "stream",
          "name": "stdout",
          "text": [
            "<class 'pandas.core.frame.DataFrame'>\n",
            "RangeIndex: 303 entries, 0 to 302\n",
            "Data columns (total 14 columns):\n",
            " #   Column    Non-Null Count  Dtype  \n",
            "---  ------    --------------  -----  \n",
            " 0   age       303 non-null    float64\n",
            " 1   sex       303 non-null    float64\n",
            " 2   cp        303 non-null    float64\n",
            " 3   trestbps  303 non-null    float64\n",
            " 4   chol      303 non-null    float64\n",
            " 5   fbs       303 non-null    float64\n",
            " 6   restecg   303 non-null    float64\n",
            " 7   thalach   303 non-null    float64\n",
            " 8   exang     303 non-null    float64\n",
            " 9   oldpeak   303 non-null    float64\n",
            " 10  slope     303 non-null    float64\n",
            " 11  ca        303 non-null    object \n",
            " 12  thal      303 non-null    object \n",
            " 13  target    303 non-null    int64  \n",
            "dtypes: float64(11), int64(1), object(2)\n",
            "memory usage: 33.3+ KB\n",
            "None\n"
          ]
        }
      ]
    },
    {
      "cell_type": "markdown",
      "source": [
        "Apenas duas das variáveis não estão classificadas como numéricas (\"ca\" e \"thal\"), o que faz sentido, já que todas as outras estão representadas por números. Porém, em alguns casos os números são apenas labels (rótulos) representando valores categóricos, e precisamos tomar cuidado para não realizar nenhum tipo de operação matemática com eles, o que causaria resultados incorretos. Iremos realizar todas as transformações necessárias para que os dados fiquem no formato desejado.\n",
        "\n",
        "Antes disso, precisamos tratar a variável \"target\". O dataset traz o atributo variando de 0 a 4, porém, para efeitos desse estudo estamos interessados apenas na presença ou não de doença cardíaca, não importando a intensidade. Dessa forma, iremos transformar a variável \"target\" em binária, variando entre 0 (Sem Incidência) e 1 (Incidência)."
      ],
      "metadata": {
        "id": "NdTtNpcvghzF"
      }
    },
    {
      "cell_type": "code",
      "source": [
        "#Alterar os valores de target para transformá-la em binária\n",
        "df.loc[df.target != 0, 'target'] = 1"
      ],
      "metadata": {
        "id": "vzyS87TumAZ3"
      },
      "execution_count": null,
      "outputs": []
    },
    {
      "cell_type": "markdown",
      "source": [
        "Precisamos também alterar o tipo de duas variáveis manualmente, para facilitar algumas transformações posteriores."
      ],
      "metadata": {
        "id": "s35v_JxomVgu"
      }
    },
    {
      "cell_type": "code",
      "source": [
        "#Alterar a variável thal para o tipo string\n",
        "df[\"thal\"] = df['thal'].astype('string')\n",
        "\n",
        "#Alterar a variável ca para o tipo float\n",
        "df[\"ca\"] = df['ca'].astype(float)"
      ],
      "metadata": {
        "id": "g_K47A-vmU52"
      },
      "execution_count": null,
      "outputs": []
    },
    {
      "cell_type": "markdown",
      "source": [
        "Agora iremos alterar os rótulos numéricos de algumas variáveis para as informações reais que eles representam, para evitar a realização de cálculos que resultariam em ponderações arbitrárias."
      ],
      "metadata": {
        "id": "EdQFXicRnDA3"
      }
    },
    {
      "cell_type": "code",
      "source": [
        "# Alterar rótulos das variáveis categóricas\n",
        "\n",
        "#cp - chest_pain_type\n",
        "df.loc[df['cp'] == 1, 'cp'] = 'asymptomatic'\n",
        "df.loc[df['cp'] == 2, 'cp'] = 'atypical angina'\n",
        "df.loc[df['cp'] == 3, 'cp'] = 'non-anginal pain'\n",
        "df.loc[df['cp'] == 4, 'cp'] = 'typical angina'\n",
        "\n",
        "#sex\n",
        "df.loc[df['sex'] == 0, 'sex'] = 'female'\n",
        "df.loc[df['sex'] == 1, 'sex'] = 'male'\n",
        "\n",
        "#restecg - rest_ecg_type\n",
        "df.loc[df['restecg'] == 0, 'restecg'] = 'left ventricular hypertrophy'\n",
        "df.loc[df['restecg'] == 1, 'restecg'] = 'normal'\n",
        "df.loc[df['restecg'] == 2, 'restecg'] = 'ST-T wave abnormality'\n",
        "\n",
        "#slope - st_slope_type\n",
        "df.loc[df['slope'] == 1, 'slope'] = 'downsloping'\n",
        "df.loc[df['slope'] == 2, 'slope'] = 'flat'\n",
        "df.loc[df['slope'] == 3, 'slope'] = 'upsloping'\n",
        "\n",
        "#thal - thalassemia_type\n",
        "df.loc[df['thal'] == '3.0', 'thal'] = 'normal'\n",
        "df.loc[df['thal'] == '6.0', 'thal'] = 'fixed defect'\n",
        "df.loc[df['thal'] == '7.0', 'thal'] = 'reversable defect'"
      ],
      "metadata": {
        "id": "qDtDNmT-nRz1"
      },
      "execution_count": null,
      "outputs": []
    },
    {
      "cell_type": "markdown",
      "source": [
        "Realizada a alteração, vamos forçar a definição das variáveis como categóricas"
      ],
      "metadata": {
        "id": "s5gxfy0xnYCG"
      }
    },
    {
      "cell_type": "code",
      "source": [
        "# Alteração de tipo para category\n",
        "df[\"cp\"] = df['cp'].astype('category')\n",
        "df[\"sex\"] = df['sex'].astype('category')\n",
        "df[\"restecg\"] = df['restecg'].astype('category')\n",
        "df[\"slope\"] = df['slope'].astype('category')\n",
        "df[\"thal\"] = df['thal'].astype('category')"
      ],
      "metadata": {
        "id": "o6UQKFRsnfPK"
      },
      "execution_count": null,
      "outputs": []
    },
    {
      "cell_type": "code",
      "source": [
        "print(df.info())"
      ],
      "metadata": {
        "id": "mkdAKeS0nqZy",
        "colab": {
          "base_uri": "https://localhost:8080/"
        },
        "outputId": "a6fd3a0e-be2c-475a-e883-efd94b6e4d67"
      },
      "execution_count": null,
      "outputs": [
        {
          "output_type": "stream",
          "name": "stdout",
          "text": [
            "<class 'pandas.core.frame.DataFrame'>\n",
            "RangeIndex: 303 entries, 0 to 302\n",
            "Data columns (total 14 columns):\n",
            " #   Column    Non-Null Count  Dtype   \n",
            "---  ------    --------------  -----   \n",
            " 0   age       303 non-null    float64 \n",
            " 1   sex       303 non-null    category\n",
            " 2   cp        303 non-null    category\n",
            " 3   trestbps  303 non-null    float64 \n",
            " 4   chol      303 non-null    float64 \n",
            " 5   fbs       303 non-null    float64 \n",
            " 6   restecg   303 non-null    category\n",
            " 7   thalach   303 non-null    float64 \n",
            " 8   exang     303 non-null    float64 \n",
            " 9   oldpeak   303 non-null    float64 \n",
            " 10  slope     303 non-null    category\n",
            " 11  ca        303 non-null    float64 \n",
            " 12  thal      303 non-null    category\n",
            " 13  target    303 non-null    int64   \n",
            "dtypes: category(5), float64(8), int64(1)\n",
            "memory usage: 23.7 KB\n",
            "None\n"
          ]
        }
      ]
    },
    {
      "cell_type": "markdown",
      "source": [
        "Com isso concluimos a etapa de alteração de tipos, e agora todas as variáveis estão definidas com o tipo correto."
      ],
      "metadata": {
        "id": "UJHHrKqZnsHU"
      }
    },
    {
      "cell_type": "markdown",
      "source": [
        "### 4.3. One-Hot-Encoding"
      ],
      "metadata": {
        "id": "rtrVyaiYLXcj"
      }
    },
    {
      "cell_type": "markdown",
      "source": [
        "Após as correções de tipagem, alguns atributos do dataset estão definidos como variáveis categóricas, e a grande maioria dos algoritmos de Machine Learning não é capaz de interpretar dados dessa forma. Por isso, realizaremos um processo de conversão de dados categóricos para um formato numérico, que possa servir de entrada para o algoritmo. Existem algumas formas diferentes de realizar esse procedimento, e nesse estudo trabalharemos com a técnica conhecida como One-Hot-Encoding, que transforma os dados categóricos em um array de vetores binários. Faremos isso utilizando a função \"get_dummies\" da biblioteca Pandas."
      ],
      "metadata": {
        "id": "PMmfdtSVLcGp"
      }
    },
    {
      "cell_type": "code",
      "source": [
        "# Cria um novo dataset com as variáveis categóricas convertidas em dummies\n",
        "final = pd.get_dummies(df, drop_first=True)\n"
      ],
      "metadata": {
        "id": "VY3A9WJwLbZV"
      },
      "execution_count": null,
      "outputs": []
    },
    {
      "cell_type": "markdown",
      "source": [
        "Após a execução da função, as novas variáveis acabaram deslocando a variável \"target\" para o meio do dataset, iremos devolvê-la ao final apenas por fins estéticos e para facilitar a visualização."
      ],
      "metadata": {
        "id": "LAYUoX_fNO0I"
      }
    },
    {
      "cell_type": "code",
      "source": [
        "# Move a coluna \"target\" de volta para a última coluna do dataframe\n",
        "\n",
        "column_ = final.pop(\"target\")\n",
        "final.insert(19, \"target\", column_)"
      ],
      "metadata": {
        "id": "Z3r-H0Z1NOQc"
      },
      "execution_count": null,
      "outputs": []
    },
    {
      "cell_type": "markdown",
      "source": [
        "### 4.4. Separação em conjunto de treino e conjunto de teste\n",
        "\n",
        "Iremos separar nos nossos dados um conjunto de teste, ou conjunto de validação, uma amostra dos dados que não será usada para a construção do modelo, mas somente no fim do projeto para confirmar a precisão do modelo final. É um teste que podemos usar para verificar o quão boa foi a construção do modelo, e para nos dar uma ideia de como o modelo irá performar nas estimativas em dados não vistos. Usaremos 80% do conjunto de dados para modelagem e guardaremos 20% para teste, usando a estratégia train-test-split."
      ],
      "metadata": {
        "id": "ee-Lm7CkOMDM"
      }
    },
    {
      "cell_type": "code",
      "source": [
        "# Define o tamanho da amostra de teste\n",
        "test_size = 0.20\n",
        "# Seed para reprodutibilidade\n",
        "seed = 123\n",
        "\n",
        "# Separação em conjuntos de treino e teste (dataset original)\n",
        "array = final.values\n",
        "# Seleciona todos os atributos menos a variável target\n",
        "X = array[:,0:19]\n",
        "# Seleciona somente a variável target\n",
        "y = array[:,19]\n",
        "# Train-test-split\n",
        "X_train, X_test, y_train, y_test = train_test_split(X, y,\n",
        "    test_size=test_size, shuffle=True, random_state=seed, stratify=y)"
      ],
      "metadata": {
        "id": "-ze0i7t0Ohjw"
      },
      "execution_count": null,
      "outputs": []
    },
    {
      "cell_type": "markdown",
      "source": [
        "Com isso concluímos o pré-processamento dos dados e estamos prontos para começar a construir os modelos."
      ],
      "metadata": {
        "id": "E3D4AopfNx_J"
      }
    },
    {
      "cell_type": "markdown",
      "source": [
        "## 5. Modelos de Classificação"
      ],
      "metadata": {
        "id": "vY6aLe1SPjgq"
      }
    },
    {
      "cell_type": "markdown",
      "source": [
        "### 5.1. Criação e avaliação de modelos\n",
        "\n",
        "Para verificar quais modelos performarão melhor neste conjunto de dados,usaremos a validação cruzada 10-fold e avaliaremos os modelos usando a métrica de acurácia. A validação cruzada é uma técnica de avaliação de modelo e treinamento que divide os dados em várias partições e treina vários algoritmos nessas partições (no caso desse estudo, 10 partições). Essa técnica melhora a robustez do modelo mantendo os dados do processo de treinamento. A acurácia indica uma performance geral do modelo, ou seja, dentre todas as classificações, quantas o modelo classificou corretamente. "
      ],
      "metadata": {
        "id": "bzLqIiaOP0Ey"
      }
    },
    {
      "cell_type": "code",
      "source": [
        "# Parâmetros e partições da validação cruzada\n",
        "scoring = 'accuracy'\n",
        "num_particoes = 10\n",
        "kfold = StratifiedKFold(n_splits=num_particoes, shuffle=True, random_state=123)"
      ],
      "metadata": {
        "id": "ziWGMvv_Qv66"
      },
      "execution_count": null,
      "outputs": []
    },
    {
      "cell_type": "markdown",
      "source": [
        "Em seguida, vamos criar uma linha base de desempenho para esse problema, verificando vários modelos diferentes com suas configurações padrão. Utilizaremos os modelos de Regressão Logística (LR), Árvores de classificação (CART), Máquinas de vetores de suporte (SVM), Naive Bayes (NB) e K-vizinhos mais próximos (KNN)."
      ],
      "metadata": {
        "id": "pGDQsvZcQ5Rz"
      }
    },
    {
      "cell_type": "code",
      "source": [
        "# Lista que armazenará os modelos\n",
        "models = []\n",
        "\n",
        "# Criando os modelos e adicionando-os na lista de modelos\n",
        "models.append(('LR', LogisticRegression(max_iter=200))) \n",
        "models.append(('KNN', KNeighborsClassifier())) \n",
        "models.append(('CART', DecisionTreeClassifier())) \n",
        "models.append(('NB', GaussianNB()))\n",
        "models.append(('SVM', SVC()))"
      ],
      "metadata": {
        "id": "WknQnZAURANP"
      },
      "execution_count": null,
      "outputs": []
    },
    {
      "cell_type": "markdown",
      "source": [
        "Adicionaremos também alguns métodos ensemble que foram abordados ao longo do curso. Estes métodos constroem vários modelos de machine learning, utilizando o resultado de cada modelo na definição de um único resultado, obtendo assim um valor final único.\n",
        "\n",
        "Isso significa que a resposta agregada de todos esses modelos é que será dada como o resultado final para cada dado que está sendo testado. São algoritmos mais robustos e complexos, que envolvem mais operações e com um custo computacional um pouco maior, mas que, de maneira geral, têm uma performance melhor."
      ],
      "metadata": {
        "id": "lsqs4URvRW4q"
      }
    },
    {
      "cell_type": "code",
      "source": [
        "# Global Seed\n",
        "np.random.seed(123) \n",
        "\n",
        "# Definindo os parâmetros do classificador base para o BaggingClassifier\n",
        "base = DecisionTreeClassifier()\n",
        "num_trees = 100\n",
        "max_features = 3\n",
        "\n",
        "# Criando os modelos para o VotingClassifier\n",
        "bases = []\n",
        "model1 = LogisticRegression(max_iter=200)\n",
        "bases.append(('logistic', model1))\n",
        "model2 = DecisionTreeClassifier()\n",
        "bases.append(('cart', model2))\n",
        "model3 = SVC()\n",
        "bases.append(('svm', model3))\n",
        "\n",
        "# Criando os modelos e adicionando-os na lista de modelos\n",
        "models.append(('Bagging', BaggingClassifier(base_estimator=base, n_estimators=num_trees)))\n",
        "models.append(('RF', RandomForestClassifier(n_estimators=num_trees, max_features=max_features)))\n",
        "models.append(('ET', ExtraTreesClassifier(n_estimators=num_trees, max_features=max_features)))\n",
        "models.append(('Ada', AdaBoostClassifier(n_estimators=num_trees)))\n",
        "models.append(('GB', GradientBoostingClassifier(n_estimators=num_trees)))\n",
        "models.append(('Voting', VotingClassifier(bases)))"
      ],
      "metadata": {
        "id": "lmgQYRoBRUMI"
      },
      "execution_count": null,
      "outputs": []
    },
    {
      "cell_type": "markdown",
      "source": [
        "Agora iremos comparar os resultados dos modelos criados, treinando-os com os dados do conjunto de treino e utilizando a técnica de validação cruzada. Para cada um dos modelos criados, executaremos a validação cruzada e, em seguida, exibiremos a acurácia média e o desvio padrão de cada um."
      ],
      "metadata": {
        "id": "w5U7C6VdSKcU"
      }
    },
    {
      "cell_type": "code",
      "source": [
        "# Instanciando as listas que armazenarão os resultados\n",
        "results = []\n",
        "names = []"
      ],
      "metadata": {
        "id": "OCwTluHvSQn9"
      },
      "execution_count": null,
      "outputs": []
    },
    {
      "cell_type": "code",
      "source": [
        "# Global Seed\n",
        "np.random.seed(123)\n",
        "\n",
        "# Avaliação dos modelos\n",
        "for name, model in models:\n",
        "    cv_results = cross_val_score(model, X_train, y_train, cv=kfold, scoring=scoring)\n",
        "    results.append(cv_results)\n",
        "    names.append(name)\n",
        "    msg = \"%s: %f (%f)\" % (name, cv_results.mean(), cv_results.std())\n",
        "    print(msg)"
      ],
      "metadata": {
        "id": "NJ0Z_G06SZ0P",
        "colab": {
          "base_uri": "https://localhost:8080/"
        },
        "outputId": "3545f134-655a-41b4-beeb-b7c6ffb560c0"
      },
      "execution_count": null,
      "outputs": [
        {
          "output_type": "stream",
          "name": "stdout",
          "text": [
            "LR: 0.846667 (0.072835)\n",
            "KNN: 0.611333 (0.057710)\n",
            "CART: 0.706833 (0.100134)\n",
            "NB: 0.809667 (0.079958)\n",
            "SVM: 0.657333 (0.042630)\n",
            "Bagging: 0.794000 (0.087131)\n",
            "RF: 0.814167 (0.064770)\n",
            "ET: 0.810000 (0.049278)\n",
            "Ada: 0.764167 (0.070617)\n",
            "GB: 0.793667 (0.089854)\n",
            "Voting: 0.810000 (0.087388)\n"
          ]
        }
      ]
    },
    {
      "cell_type": "markdown",
      "source": [
        "Os resultados indicam que a Regressão Logística apresentou o valor médio de acurácia mais satisfatório, seguido pelos modelos Ensemble Random Forest e Extra Tree Classifier.\n",
        "\n",
        "A seguir, repetiremos este processo usando uma visão padronizada e outra normalizada do conjunto de dados de treinamento."
      ],
      "metadata": {
        "id": "cRzx-2c4lVmx"
      }
    },
    {
      "cell_type": "markdown",
      "source": [
        "### 5.2. Criação e avaliação de modelos: dados padronizados e normalizados\n",
        "\n",
        "Para analisar o impacto da distribuição dos dados nos modelos, vamos agora experimentar as visões do dataset padronizado e normalizado, comparando com a visão original do dataset. Na padronização (*StandardScaler*), os dados serão transformados de modo que cada atributo tenha média 0 e um desvio padrão 1; na normalização (*MinMaxScaler*), cada atributo é redimensionado para um novo intervalo entre 0 e 1.\n",
        "\n",
        "Para evitar o vazamento de dados (*data leakage*) nestas transformações, usaremos pipelines que padronizam os dados e constroem o modelo para cada fold de teste de validação cruzada."
      ],
      "metadata": {
        "id": "DCZhnymfo9rR"
      }
    },
    {
      "cell_type": "code",
      "source": [
        "# Global Seed\n",
        "np.random.seed(123)\n",
        "\n",
        "# Aqui iremos armazenar os pipelines e os resultados para todas as visões do dataset\n",
        "pipelines = []\n",
        "results = []\n",
        "names = []\n",
        "\n",
        "\n",
        "# Criando os elementos do pipeline\n",
        "\n",
        "# Algoritmos que serão utilizados\n",
        "reg_log = ('LR', LogisticRegression(max_iter=200))\n",
        "knn = ('KNN', KNeighborsClassifier())\n",
        "cart = ('CART', DecisionTreeClassifier())\n",
        "naive_bayes = ('NB', GaussianNB())\n",
        "svm = ('SVM', SVC())\n",
        "bagging = ('Bag', BaggingClassifier(base_estimator=base, n_estimators=num_trees))\n",
        "random_forest = ('RF', RandomForestClassifier(n_estimators=num_trees, max_features=max_features))\n",
        "extra_trees = ('ET', ExtraTreesClassifier(n_estimators=num_trees, max_features=max_features))\n",
        "adaboost = ('Ada', AdaBoostClassifier(n_estimators=num_trees))\n",
        "gradient_boosting = ('GB', GradientBoostingClassifier(n_estimators=num_trees))\n",
        "voting = ('Voting', VotingClassifier(bases))\n",
        "\n",
        "# Transformações que serão utilizadas\n",
        "standard_scaler = ('StandardScaler', StandardScaler())\n",
        "min_max_scaler = ('MinMaxScaler', MinMaxScaler())\n",
        "\n",
        "\n",
        "# Montando os pipelines\n",
        "\n",
        "# Dataset original\n",
        "pipelines.append(('LR-orig', Pipeline([reg_log]))) \n",
        "pipelines.append(('KNN-orig', Pipeline([knn])))\n",
        "pipelines.append(('CART-orig', Pipeline([cart])))\n",
        "pipelines.append(('NB-orig', Pipeline([naive_bayes])))\n",
        "pipelines.append(('SVM-orig', Pipeline([svm])))\n",
        "pipelines.append(('Bag-orig', Pipeline([bagging])))\n",
        "pipelines.append(('RF-orig', Pipeline([random_forest])))\n",
        "pipelines.append(('ET-orig', Pipeline([extra_trees])))\n",
        "pipelines.append(('Ada-orig', Pipeline([adaboost])))\n",
        "pipelines.append(('GB-orig', Pipeline([gradient_boosting])))\n",
        "pipelines.append(('Vot-orig', Pipeline([voting])))\n",
        "\n",
        "# Padronização do dataset original\n",
        "pipelines.append(('LR-padr', Pipeline([standard_scaler, reg_log]))) \n",
        "pipelines.append(('KNN-padr', Pipeline([standard_scaler, knn])))\n",
        "pipelines.append(('CART-padr', Pipeline([standard_scaler, cart])))\n",
        "pipelines.append(('NB-padr', Pipeline([standard_scaler, naive_bayes])))\n",
        "pipelines.append(('SVM-padr', Pipeline([standard_scaler, svm])))\n",
        "pipelines.append(('Bag-padr', Pipeline([standard_scaler, bagging]))) \n",
        "pipelines.append(('RF-padr', Pipeline([standard_scaler, random_forest])))\n",
        "pipelines.append(('ET-padr', Pipeline([standard_scaler, extra_trees])))\n",
        "pipelines.append(('Ada-padr', Pipeline([standard_scaler, adaboost])))\n",
        "pipelines.append(('GB-padr', Pipeline([standard_scaler, gradient_boosting])))\n",
        "pipelines.append(('Vot-padr', Pipeline([standard_scaler, voting])))\n",
        "\n",
        "# Normalização do dataset original\n",
        "pipelines.append(('LR-norm', Pipeline([min_max_scaler, reg_log]))) \n",
        "pipelines.append(('KNN-norm', Pipeline([min_max_scaler, knn])))\n",
        "pipelines.append(('CART-norm', Pipeline([min_max_scaler, cart])))\n",
        "pipelines.append(('NB-norm', Pipeline([min_max_scaler, naive_bayes])))\n",
        "pipelines.append(('SVM-norm', Pipeline([min_max_scaler, svm])))\n",
        "pipelines.append(('Bag-norm', Pipeline([min_max_scaler, bagging]))) \n",
        "pipelines.append(('RF-norm', Pipeline([min_max_scaler, random_forest])))\n",
        "pipelines.append(('ET-norm', Pipeline([min_max_scaler, extra_trees])))\n",
        "pipelines.append(('Ada-norm', Pipeline([min_max_scaler, adaboost])))\n",
        "pipelines.append(('GB-norm', Pipeline([min_max_scaler, gradient_boosting])))\n",
        "pipelines.append(('Vot-norm', Pipeline([min_max_scaler, voting])))\n",
        "\n",
        "# Executando os pipelines\n",
        "for name, model in pipelines:\n",
        "    cv_results = cross_val_score(model, X_train, y_train, cv=kfold, scoring=scoring)\n",
        "    results.append(cv_results)\n",
        "    names.append(name)\n",
        "    msg = \"%s: %.3f (%.3f)\" % (name, cv_results.mean(), cv_results.std())\n",
        "    print(msg)"
      ],
      "metadata": {
        "id": "Hkl0jDJcpQcb",
        "colab": {
          "base_uri": "https://localhost:8080/"
        },
        "outputId": "44c276fc-8fda-485b-974d-b563ad4e50d7"
      },
      "execution_count": null,
      "outputs": [
        {
          "output_type": "stream",
          "name": "stdout",
          "text": [
            "LR-orig: 0.847 (0.073)\n",
            "KNN-orig: 0.611 (0.058)\n",
            "CART-orig: 0.707 (0.100)\n",
            "NB-orig: 0.810 (0.080)\n",
            "SVM-orig: 0.657 (0.043)\n",
            "Bag-orig: 0.794 (0.087)\n",
            "RF-orig: 0.814 (0.065)\n",
            "ET-orig: 0.810 (0.049)\n",
            "Ada-orig: 0.764 (0.071)\n",
            "GB-orig: 0.794 (0.090)\n",
            "Vot-orig: 0.810 (0.087)\n",
            "LR-padr: 0.830 (0.066)\n",
            "KNN-padr: 0.785 (0.068)\n",
            "CART-padr: 0.702 (0.079)\n",
            "NB-padr: 0.810 (0.080)\n",
            "SVM-padr: 0.810 (0.057)\n",
            "Bag-padr: 0.794 (0.080)\n",
            "RF-padr: 0.810 (0.055)\n",
            "ET-padr: 0.814 (0.067)\n",
            "Ada-padr: 0.764 (0.071)\n",
            "GB-padr: 0.794 (0.098)\n",
            "Vot-padr: 0.831 (0.071)\n",
            "LR-norm: 0.834 (0.050)\n",
            "KNN-norm: 0.810 (0.049)\n",
            "CART-norm: 0.711 (0.082)\n",
            "NB-norm: 0.805 (0.084)\n",
            "SVM-norm: 0.798 (0.062)\n",
            "Bag-norm: 0.794 (0.083)\n",
            "RF-norm: 0.815 (0.073)\n",
            "ET-norm: 0.793 (0.038)\n",
            "Ada-norm: 0.764 (0.071)\n",
            "GB-norm: 0.798 (0.093)\n",
            "Vot-norm: 0.822 (0.056)\n"
          ]
        }
      ]
    },
    {
      "cell_type": "markdown",
      "source": [
        "Utilizando gráficos boxplot, podemos analisar graficamente a distribuição dos resultados dos folds da validação cruzada para cada modelo."
      ],
      "metadata": {
        "id": "r_loTWyLrkh0"
      }
    },
    {
      "cell_type": "code",
      "source": [
        "# Comparação dos modelos\n",
        "fig = plt.figure(figsize=(25,6))\n",
        "fig.suptitle('Comparação dos modelos - Dataset original, padronizado e normalizado') \n",
        "ax = fig.add_subplot(111) \n",
        "plt.boxplot(results) \n",
        "ax.set_xticklabels(names, rotation=90)\n",
        "plt.show()"
      ],
      "metadata": {
        "id": "ggBdaAa8ruQH",
        "colab": {
          "base_uri": "https://localhost:8080/",
          "height": 462
        },
        "outputId": "cd1fb95e-76b2-4cf5-92c1-24f3c6497562"
      },
      "execution_count": null,
      "outputs": [
        {
          "output_type": "display_data",
          "data": {
            "text/plain": [
              "<Figure size 1800x432 with 1 Axes>"
            ],
            "image/png": "[encoded data removed]"
          },
          "metadata": {
            "needs_background": "light"
          }
        }
      ]
    },
    {
      "cell_type": "markdown",
      "source": [
        "Para o dataset original, os melhores modelos em termos de acurácia foram: LR-orig (0,847) e RF-orig (0,814). Alguns modelos apresentaram melhora significativa na acurácia após a normalização, destacando-se o KNN que foi de uma acurácia de 61% para aproximadamente 81%. Apesar do modelo RF-normalizado ter atingido valores absolutos mais altos de acurácia durante a validação cruzada, nenhum modelo conseguiu bater a acurácia média da Regressão Logística.\n",
        "\n",
        "Vamos agora variar os hiperparâmetros do KNN e da Regressão Logística, tentando buscar configurações que possam gerar resultados melhores."
      ],
      "metadata": {
        "id": "fSOw66xRr-RS"
      }
    },
    {
      "cell_type": "markdown",
      "source": [
        "### 5.3. Ajuste dos Modelos (Pipeline + Gridsearch)"
      ],
      "metadata": {
        "id": "Lu_78iYJuWGQ"
      }
    },
    {
      "cell_type": "markdown",
      "source": [
        "#### Ajuste do KNN"
      ],
      "metadata": {
        "id": "7Yv_f62AudKn"
      }
    },
    {
      "cell_type": "markdown",
      "source": [
        "Vamos variar o número de vizinhos (todos os valores ímpares até 21) e as métricas de distância para o KNN (euclidiana, manhattan e minkowski). Usando o pipeline, cada valor de k e de distância será avaliado usando a validação cruzada 10-fold no conjunto de dados original e com as visões padronizada e normalizada, que mostrou melhores resultados do que os dados originais."
      ],
      "metadata": {
        "id": "x5Da5VtEwMQt"
      }
    },
    {
      "cell_type": "code",
      "source": [
        " # Global Seed\n",
        "np.random.seed(7)\n",
        "\n",
        "pipelines = []\n",
        "\n",
        "# Definindo os componentes do pipeline\n",
        "knn = ('KNN', KNeighborsClassifier())\n",
        "standard_scaler = ('StandardScaler', StandardScaler())\n",
        "min_max_scaler = ('MinMaxScaler', MinMaxScaler())\n",
        "\n",
        "pipelines.append(('KNN-orig', Pipeline(steps=[knn])))\n",
        "pipelines.append(('KNN-padr', Pipeline(steps=[standard_scaler, knn])))\n",
        "pipelines.append(('KNN-norm', Pipeline(steps=[min_max_scaler, knn])))\n",
        "\n",
        "# Conjunto de parâmetros a serem testados\n",
        "param_grid = {\n",
        "    'KNN__n_neighbors': [1,3,5,7,9,11,13,15,17,19,21],\n",
        "    'KNN__metric': [\"euclidean\", \"manhattan\", \"minkowski\"],\n",
        "}\n",
        "\n",
        "# Prepara e executa o GridSearchCV\n",
        "for name, model in pipelines:    \n",
        "    grid = GridSearchCV(estimator=model, param_grid=param_grid, scoring=scoring, cv=kfold)\n",
        "    grid.fit(X_train, y_train)\n",
        "\n",
        "# Exibe a melhor configuração\n",
        "print(\"%s - Melhor: %f usando %s\" % (name, grid.best_score_, grid.best_params_)) "
      ],
      "metadata": {
        "id": "OZskhNIFwpYG",
        "colab": {
          "base_uri": "https://localhost:8080/"
        },
        "outputId": "2e59a210-1170-4d21-af1b-53e39a1ec235"
      },
      "execution_count": null,
      "outputs": [
        {
          "output_type": "stream",
          "name": "stdout",
          "text": [
            "KNN-norm - Melhor: 0.810000 usando {'KNN__metric': 'euclidean', 'KNN__n_neighbors': 5}\n"
          ]
        }
      ]
    },
    {
      "cell_type": "markdown",
      "source": [
        "A melhor configuração encontrada utiliza o dataset com dados normalizados, distância Euclidiana e k=5."
      ],
      "metadata": {
        "id": "ec6TRHZSxtyL"
      }
    },
    {
      "cell_type": "markdown",
      "source": [
        "#### Ajuste da Regressão Logística\n",
        "Iremos ajustar três hiperparâmetros do algoritmo de Regressão logística: o valor de C (que indica o peso a ser atribuído aos dados de treinamento), o tipo de solver utilizado e os valores de penalty (l1 e l2).\n",
        "\n",
        "Iremos testar outros valores para estes hiperparâmetros, e cada combinação de valores será avaliada usando a função GridSearchCV, como fizemos anteriormente para o KNN.\n"
      ],
      "metadata": {
        "id": "XNVSqpRD6LAy"
      }
    },
    {
      "cell_type": "code",
      "source": [
        " # Global Seed\n",
        "np.random.seed(123)\n",
        "\n",
        "pipelines = []\n",
        "\n",
        "# Definindo os componentes do pipeline\n",
        "reg_log = ('LR', LogisticRegression())\n",
        "standard_scaler = ('StandardScaler', StandardScaler())\n",
        "min_max_scaler = ('MinMaxScaler', MinMaxScaler())\n",
        "\n",
        "pipelines.append(('lr-orig', Pipeline(steps=[reg_log])))\n",
        "pipelines.append(('lr-padr', Pipeline(steps=[standard_scaler, reg_log])))\n",
        "pipelines.append(('lr-norm', Pipeline(steps=[min_max_scaler, reg_log])))\n",
        "\n",
        "# Conjunto de parâmetros a serem testados\n",
        "param_grid = {\n",
        "    #Retorna 7 valores de logaritmo separados uniformemente entre -3 e 3\n",
        "    'LR__C' : np.logspace(-3,3,7), \n",
        "    'LR__penalty' : ['l1','l2'],\n",
        "    'LR__solver'  : ['newton-cg', 'lbfgs', 'liblinear'],\n",
        "}\n",
        "\n",
        "# Prepara e executa o GridSearchCV\n",
        "for name, model in pipelines:    \n",
        "    grid = GridSearchCV(estimator=model, param_grid=param_grid, scoring=scoring, cv=kfold)\n",
        "    grid.fit(X_train, y_train)\n",
        "\n",
        "# Exibe a melhor configuração\n",
        "print(\"%s - Melhor: %f usando %s\" % (name, grid.best_score_, grid.best_params_)) "
      ],
      "metadata": {
        "id": "8GK0ODSL6Hu_",
        "colab": {
          "base_uri": "https://localhost:8080/"
        },
        "outputId": "edf7d7b2-6406-4f64-97fb-86430b2de2fd"
      },
      "execution_count": null,
      "outputs": [
        {
          "output_type": "stream",
          "name": "stdout",
          "text": [
            "lr-norm - Melhor: 0.838500 usando {'LR__C': 10.0, 'LR__penalty': 'l2', 'LR__solver': 'liblinear'}\n"
          ]
        }
      ]
    },
    {
      "cell_type": "markdown",
      "source": [
        "A melhor configuração encontrada ficou bastante próxima mas não foi capaz de superar o valor original de quase 85% de acurácia que havíamos obtido com o primeiro modelo de Regressão Logística."
      ],
      "metadata": {
        "id": "bCx6lq4klVbx"
      }
    },
    {
      "cell_type": "markdown",
      "source": [
        "## 7. Finalização do Modelo"
      ],
      "metadata": {
        "id": "q4sWBTBnvuxK"
      }
    },
    {
      "cell_type": "markdown",
      "source": [
        "Analisando os resultados até aqui, verificamos que o modelo que mostrou melhor acurácia média para o problema foi o que usou Regressão Logística como algoritmo.\n",
        "\n",
        "A seguir, finalizaremos este modelo, treinando-o em todo o conjunto de dados de treinamento (sem validação cruzada) e faremos predições para o conjunto de dados de teste que foi separado logo no início do exemplo, a fim de confirmarmos nossas descobertas.\n",
        "\n",
        "Primeiro, iremos realizar a padronização dos dados de entrada. Depois, treinaremos o modelo e exibiremos a acurácia de teste, a matriz de confusão, o relatório de classificação e calcularemos a área sob a curva ROC, que é uma outra medida de classificação que, de forma sucinta, indica o quanto o modelo é capaz de distinguir entre as classes.\n",
        "\n",
        "\n"
      ],
      "metadata": {
        "id": "h7CuST-mvvrc"
      }
    },
    {
      "cell_type": "code",
      "source": [
        "# Preparação do modelo\n",
        "scaler = StandardScaler().fit(X_train)\n",
        "rescaledX = scaler.transform(X_train)\n",
        "model = LogisticRegression(max_iter=200)\n",
        "model.fit(rescaledX, y_train)\n",
        "\n",
        "# Estimativa da acurácia no conjunto de teste\n",
        "rescaledTestX = scaler.transform(X_test)\n",
        "predictions = model.predict(rescaledTestX)\n",
        "print(accuracy_score(y_test, predictions))\n",
        "print(confusion_matrix(y_test, predictions))\n",
        "print(classification_report(y_test, predictions))\n",
        "auc_roc = roc_auc_score(y_test,predictions)\n",
        "print(\"Área sob a curva ROC: %f\" % (auc_roc))"
      ],
      "metadata": {
        "colab": {
          "base_uri": "https://localhost:8080/"
        },
        "id": "Dip3VWi0w3vB",
        "outputId": "1c9a2fae-329a-4122-9e4c-f0382d71b021"
      },
      "execution_count": null,
      "outputs": [
        {
          "output_type": "stream",
          "name": "stdout",
          "text": [
            "0.8688524590163934\n",
            "[[30  3]\n",
            " [ 5 23]]\n",
            "              precision    recall  f1-score   support\n",
            "\n",
            "         0.0       0.86      0.91      0.88        33\n",
            "         1.0       0.88      0.82      0.85        28\n",
            "\n",
            "    accuracy                           0.87        61\n",
            "   macro avg       0.87      0.87      0.87        61\n",
            "weighted avg       0.87      0.87      0.87        61\n",
            "\n",
            "Área sob a curva ROC: 0.865260\n"
          ]
        }
      ]
    },
    {
      "cell_type": "markdown",
      "source": [
        "Por meio do conjunto de teste, verificamos que alcançamos uma acurácia de quase 87% em dados não vistos. Este resultado foi ainda melhor do que as nossas expectativas, pois durante os testes a acurácia máxima que conseguimos atingir foi de 84,7%. Podemos também visualizar a matriz de confusão e a curva ROC de maneira gráfica, conforme abaixo:"
      ],
      "metadata": {
        "id": "jnJiEoeXA2GV"
      }
    },
    {
      "cell_type": "code",
      "source": [
        "# Matriz de confusão com Seaborn\n",
        "sns.heatmap(confusion_matrix(y_test,predictions),annot=True)"
      ],
      "metadata": {
        "colab": {
          "base_uri": "https://localhost:8080/",
          "height": 287
        },
        "id": "FXUTilrMxQ26",
        "outputId": "1e07eb1a-487f-484a-a393-0b6f3452062d"
      },
      "execution_count": null,
      "outputs": [
        {
          "output_type": "execute_result",
          "data": {
            "text/plain": [
              "<matplotlib.axes._subplots.AxesSubplot at 0x7f8c045a9a90>"
            ]
          },
          "metadata": {},
          "execution_count": 36
        },
        {
          "output_type": "display_data",
          "data": {
            "text/plain": [
              "<Figure size 432x288 with 2 Axes>"
            ],
            "image/png": "[encoded data removed]"
          },
          "metadata": {
            "needs_background": "light"
          }
        }
      ]
    },
    {
      "cell_type": "code",
      "source": [
        "# Curva ROC com Matplotlib\n",
        "tfp, tvp, limites = roc_curve(y_test, predictions)\n",
        "plt.plot(tfp,tvp)\n",
        "plt.xlim([0.0, 1.0])\n",
        "plt.ylim([0.0, 1.0])\n",
        "plt.title('Curva ROC para algoritmo de classificação - Regressão Logística')\n",
        "plt.xlabel('Taxa de Falsos Positivos (1-Especificidade)')\n",
        "plt.ylabel('Taxa de Verdadeiros Positivos (Sensitividade)')\n",
        "plt.grid(True)"
      ],
      "metadata": {
        "colab": {
          "base_uri": "https://localhost:8080/",
          "height": 295
        },
        "id": "xg6H9TssCW_m",
        "outputId": "7769c52b-963f-431c-fc13-751a86e005ad"
      },
      "execution_count": null,
      "outputs": [
        {
          "output_type": "display_data",
          "data": {
            "text/plain": [
              "<Figure size 432x288 with 1 Axes>"
            ],
            "image/png": "[encoded data removed]"
          },
          "metadata": {
            "needs_background": "light"
          }
        }
      ]
    },
    {
      "cell_type": "markdown",
      "source": [
        "## 8. Conclusão"
      ],
      "metadata": {
        "id": "04oCtmmmCgkL"
      }
    },
    {
      "cell_type": "markdown",
      "source": [
        "Este estudo buscou elaborar um projeto de classificação completo, desde a carga dos dados até o ajuste dos hiperparâmetros dos modelos, passando pela análise descritiva, pré-processamento dos dados e criação e avaliação de diversos modelos diferentes. Entre as opções exploradas, conseguimos obter um modelo de regressão logística capaz de classificar corretamente quase 87% dos casos, uma acurácia bastante satisfatória.\n",
        "\n",
        "O modelo ainda possui espaço para melhoria, e as primeiras opções de aperfeiçoamento passam por um entendimento mais detalhado da interação dos dados com o algoritmo, realizando testes estatísticos mais aprofundados para definir quais atributos tem peso maior na variável de classe, assim obtendo previsões mais precisas.\n",
        "\n"
      ],
      "metadata": {
        "id": "KILDzw9O72ep"
      }
    }
  ]
}